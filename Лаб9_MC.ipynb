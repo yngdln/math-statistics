{
  "nbformat": 4,
  "nbformat_minor": 0,
  "metadata": {
    "colab": {
      "provenance": [],
      "authorship_tag": "ABX9TyNfOBLBpMA16s1CbGQ586Vu",
      "include_colab_link": true
    },
    "kernelspec": {
      "name": "python3",
      "display_name": "Python 3"
    },
    "language_info": {
      "name": "python"
    }
  },
  "cells": [
    {
      "cell_type": "markdown",
      "metadata": {
        "id": "view-in-github",
        "colab_type": "text"
      },
      "source": [
        "<a href=\"https://colab.research.google.com/github/yngdln/math-statistics/blob/main/%D0%9B%D0%B0%D0%B19_MC.ipynb\" target=\"_parent\"><img src=\"https://colab.research.google.com/assets/colab-badge.svg\" alt=\"Open In Colab\"/></a>"
      ]
    },
    {
      "cell_type": "code",
      "execution_count": null,
      "metadata": {
        "id": "tYYhOd1RUHR0"
      },
      "outputs": [],
      "source": [
        "import numpy as np\n",
        "import scipy.stats\n",
        "X=np.array([0.231,0.162,9.719e-3,-0.088,1.091,-0.468,0.43,0.223,0.253,0.099,-0.094,1.857,0.179,-0.66,-0.303,0.276,-0.128,0.324,-4.31e-3,0.596,-1.827,-0.221,0.661,0.863,0.271,0.437,1.202,-0.245,0.916,-0.08,0.787,-1.233,1.066,-0.682,-0.833,-0.828,0.142,0.432,0.307,0.612,1.964,-0.578,-0.199,0.143,1.226,-0.211,-0.82,-1.178,0.497,-2.04,-0.13,-0.068,0.471,0.105,0.993,0.747,-0.016,0.466,-0.46,0.569,0.093,0.039,0.375,0.433,0.957,0.581,-0.187,-1.134,-2.19,0.486,-0.711,0.309,-0.278,0.584,1.463,-0.377,0.803,-0.893,-0.747,-0.35,0.624,0.625,0.889,-0.43,-0.519,0.805,0.71,-1.218,-0.631,-0.089,0.875,0.082,0.04,2.244,0.78,-0.736,-0.399,1.357,0.401,0.26,0.442,-0.806,-0.223,0.962,-1.295,-0.09,-0.52,-0.706,2.958e-3,0.482,-0.556,0.52,0.1,0.732,0.068,0.786,-0.522,-0.23,-1.268,-0.181])\n",
        "Y=np.array([5.171,5.001,4.793,5.332,5.544,4.811,5.389,5.622,5.066,5.221,5.489,6.602,5.441,4.305,4.26,5.515,5.379,5.615,5.222,5.57,3.894,4.719,5.581,5.493,5.166,5.363,5.904,4.878,5.241,5.137,5.658,4.166,5.163,4.988,4.576,4.566,5.298,5.384,5.82,6.147,6.546,4.681,4.899,5.604,6.261,5.045,4.374,4.57,5.349,4.048,4.663,5.492,4.821,4.699,5.538,5.363,5.115,4.866,4.608,5.578,5.073,5.151,5.291,5.994,5.967,5.692,5.209,4.799,4.025,5.017,4.621,4.768,4.879,5.091,5.837,5.159,5.702,4.75,4.951,4.813,5.136,5.493,5.728,4.722,4.923,5.163,5.474,3.848,4.378,4.683,5.546,4.97,5.165,7.023,5.3,4.712,5.183,6.34,5.326,5.32,5.163,5.176,5.009,5.399,4.239,4.947,4.816,5.024,5.777,5.503,5.116,5.367,5.237,5.505,4.931,6.076,5.028,5.109,4.49,5.247])"
      ]
    },
    {
      "cell_type": "code",
      "source": [
        "txt=(\"0.231\t0.162\t9.719e-3\t-0.088\t1.091\t-0.468\t0.43\t0.223\t0.253\t0.099 -0.094\t1.857\t0.179\t-0.66\t-0.303\t0.276\t-0.128\t0.324\t-4.31e-3\t0.596 -1.827\t-0.221\t0.661\t0.863\t0.271\t0.437\t1.202\t-0.245\t0.916\t-0.08 0.787\t-1.233\t1.066\t-0.682\t-0.833\t-0.828\t0.142\t0.432\t0.307\t0.612 1.964\t-0.578\t-0.199\t0.143\t1.226\t-0.211\t-0.82\t-1.178\t0.497\t-2.04 -0.13\t-0.068\t0.471\t0.105\t0.993\t0.747\t-0.016\t0.466\t-0.46\t0.569 0.093\t0.039\t0.375\t0.433\t0.957\t0.581\t-0.187\t-1.134\t-2.19\t0.486 -0.711\t0.309\t-0.278\t0.584\t1.463\t-0.377\t0.803\t-0.893\t-0.747\t-0.35 0.624\t0.625\t0.889\t-0.43\t-0.519\t0.805\t0.71\t-1.218\t-0.631\t-0.089 0.875\t0.082\t0.04\t2.244\t0.78\t-0.736\t-0.399\t1.357\t0.401\t0.26 0.442\t-0.806\t-0.223\t0.962\t-1.295\t-0.09\t-0.52\t-0.706\t2.958e-3\t0.482 -0.556\t0.52\t0.1\t0.732\t0.068\t0.786\t-0.522\t-0.23\t-1.268\t-0.181 \")\n",
        "txt_2=(\"5.171\t5.001\t4.793\t5.332\t5.544\t4.811\t5.389\t5.622\t5.066\t5.221 5.489\t6.602\t5.441\t4.305\t4.26\t5.515\t5.379\t5.615\t5.222\t5.57 3.894\t4.719\t5.581\t5.493\t5.166\t5.363\t5.904\t4.878\t5.241\t5.137 5.658\t4.166\t5.163\t4.988\t4.576\t4.566\t5.298\t5.384\t5.82\t6.147 6.546\t4.681\t4.899\t5.604\t6.261\t5.045\t4.374\t4.57\t5.349\t4.048 4.663\t5.492\t4.821\t4.699\t5.538\t5.363\t5.115\t4.866\t4.608\t5.578 5.073\t5.151\t5.291\t5.994\t5.967\t5.692\t5.209\t4.799\t4.025\t5.017 4.621\t4.768\t4.879\t5.091\t5.837\t5.159\t5.702\t4.75\t4.951\t4.813 5.136\t5.493\t5.728\t4.722\t4.923\t5.163\t5.474\t3.848\t4.378\t4.683 5.546\t4.97 5.165\t7.023\t5.3\t4.712\t5.183\t6.34\t5.326\t5.32 5.163\t5.176\t5.009\t5.399\t4.239\t4.947\t4.816\t5.024\t5.777\t5.503 5.116\t5.367\t5.237\t5.505\t4.931\t6.076\t5.028\t5.109\t4.49\t5.247\")\n",
        "x = txt.replace('\\t', ',')\n",
        "y=txt_2.replace('\\t', ',')\n",
        "x=x.replace(' ', ',')\n",
        "x"
      ],
      "metadata": {
        "id": "ZJtwz2S0UkzB",
        "colab": {
          "base_uri": "https://localhost:8080/",
          "height": 105
        },
        "outputId": "c8423633-27ab-4f4c-fd4c-2e0ffbf6303b"
      },
      "execution_count": null,
      "outputs": [
        {
          "output_type": "execute_result",
          "data": {
            "text/plain": [
              "'0.231,0.162,9.719e-3,-0.088,1.091,-0.468,0.43,0.223,0.253,0.099,-0.094,1.857,0.179,-0.66,-0.303,0.276,-0.128,0.324,-4.31e-3,0.596,-1.827,-0.221,0.661,0.863,0.271,0.437,1.202,-0.245,0.916,-0.08,0.787,-1.233,1.066,-0.682,-0.833,-0.828,0.142,0.432,0.307,0.612,1.964,-0.578,-0.199,0.143,1.226,-0.211,-0.82,-1.178,0.497,-2.04,-0.13,-0.068,0.471,0.105,0.993,0.747,-0.016,0.466,-0.46,0.569,0.093,0.039,0.375,0.433,0.957,0.581,-0.187,-1.134,-2.19,0.486,-0.711,0.309,-0.278,0.584,1.463,-0.377,0.803,-0.893,-0.747,-0.35,0.624,0.625,0.889,-0.43,-0.519,0.805,0.71,-1.218,-0.631,-0.089,0.875,0.082,0.04,2.244,0.78,-0.736,-0.399,1.357,0.401,0.26,0.442,-0.806,-0.223,0.962,-1.295,-0.09,-0.52,-0.706,2.958e-3,0.482,-0.556,0.52,0.1,0.732,0.068,0.786,-0.522,-0.23,-1.268,-0.181,'"
            ],
            "application/vnd.google.colaboratory.intrinsic+json": {
              "type": "string"
            }
          },
          "metadata": {},
          "execution_count": 2
        }
      ]
    },
    {
      "cell_type": "code",
      "source": [
        "x_m=np.mean(X)\n",
        "n=len(X)\n",
        "m=len(Y)\n",
        "x_m"
      ],
      "metadata": {
        "colab": {
          "base_uri": "https://localhost:8080/"
        },
        "id": "soX2GGYWZ6Jf",
        "outputId": "771858ee-19c6-4b13-9476-41bf3637fe00"
      },
      "execution_count": null,
      "outputs": [
        {
          "output_type": "execute_result",
          "data": {
            "text/plain": [
              "0.08197805833333334"
            ]
          },
          "metadata": {},
          "execution_count": 2
        }
      ]
    },
    {
      "cell_type": "code",
      "source": [
        "print(n)\n",
        "print(m)"
      ],
      "metadata": {
        "colab": {
          "base_uri": "https://localhost:8080/"
        },
        "id": "OTC2NPxog3jV",
        "outputId": "9e6ae035-be70-4a64-c3bd-55d5ae8faee6"
      },
      "execution_count": null,
      "outputs": [
        {
          "output_type": "stream",
          "name": "stdout",
          "text": [
            "120\n",
            "120\n"
          ]
        }
      ]
    },
    {
      "cell_type": "code",
      "source": [
        "y_m=np.mean(Y)\n",
        "y_m"
      ],
      "metadata": {
        "colab": {
          "base_uri": "https://localhost:8080/"
        },
        "id": "hNxGLaXedSvh",
        "outputId": "6ac81597-df03-428f-ea7a-db82d57b4871"
      },
      "execution_count": null,
      "outputs": [
        {
          "output_type": "execute_result",
          "data": {
            "text/plain": [
              "5.174925"
            ]
          },
          "metadata": {},
          "execution_count": 4
        }
      ]
    },
    {
      "cell_type": "code",
      "source": [
        "s_x=np.sqrt( (np.sum((X - x_m)**2)))\n",
        "s_x"
      ],
      "metadata": {
        "colab": {
          "base_uri": "https://localhost:8080/"
        },
        "id": "gjoPi5F-d3X_",
        "outputId": "2db76855-46a8-43a8-917d-440386933f3c"
      },
      "execution_count": null,
      "outputs": [
        {
          "output_type": "execute_result",
          "data": {
            "text/plain": [
              "8.319327889863015"
            ]
          },
          "metadata": {},
          "execution_count": 5
        }
      ]
    },
    {
      "cell_type": "code",
      "source": [
        "s_x_y=np.sqrt( (np.sum((X - x_m)*(Y - y_m))))\n",
        "s_x_y"
      ],
      "metadata": {
        "colab": {
          "base_uri": "https://localhost:8080/"
        },
        "id": "DpT0hONqeHl3",
        "outputId": "68cf2439-7078-45b1-8f00-c037b38bea3e"
      },
      "execution_count": null,
      "outputs": [
        {
          "output_type": "execute_result",
          "data": {
            "text/plain": [
              "6.467008604488245"
            ]
          },
          "metadata": {},
          "execution_count": 6
        }
      ]
    },
    {
      "cell_type": "code",
      "source": [
        "bet_1=s_x_y/s_x\n",
        "bet_1"
      ],
      "metadata": {
        "colab": {
          "base_uri": "https://localhost:8080/"
        },
        "id": "PIRNKt14eyBJ",
        "outputId": "09e1df62-a323-4b39-da74-3bcd648982fb"
      },
      "execution_count": null,
      "outputs": [
        {
          "output_type": "execute_result",
          "data": {
            "text/plain": [
              "0.7773474840880121"
            ]
          },
          "metadata": {},
          "execution_count": 7
        }
      ]
    },
    {
      "cell_type": "code",
      "source": [
        "bet_0=y_m-bet_1*x_m\n",
        "bet_0"
      ],
      "metadata": {
        "colab": {
          "base_uri": "https://localhost:8080/"
        },
        "id": "pJ3vdIhDfDJK",
        "outputId": "28da6acb-0983-4820-cfb0-0139d8c05262"
      },
      "execution_count": null,
      "outputs": [
        {
          "output_type": "execute_result",
          "data": {
            "text/plain": [
              "5.111199562604163"
            ]
          },
          "metadata": {},
          "execution_count": 8
        }
      ]
    },
    {
      "cell_type": "code",
      "source": [
        "def y_2(x):\n",
        "  return bet_1*x+bet_0"
      ],
      "metadata": {
        "id": "TtPkW9UsjAaj"
      },
      "execution_count": null,
      "outputs": []
    },
    {
      "cell_type": "code",
      "source": [
        "import matplotlib.pyplot as plt\n",
        "x = np.linspace(-2.5, 2.5, num=1000)\n",
        "plt.plot(x, y_2(x),\"black\")\n",
        "plt.plot(X, Y, \"ro\")\n",
        "plt.show()"
      ],
      "metadata": {
        "colab": {
          "base_uri": "https://localhost:8080/",
          "height": 430
        },
        "id": "mNTSL3pFf70T",
        "outputId": "e606a2e2-cfb2-41f3-f3e6-0e6733dc5b47"
      },
      "execution_count": null,
      "outputs": [
        {
          "output_type": "display_data",
          "data": {
            "text/plain": [
              "<Figure size 640x480 with 1 Axes>"
            ],
            "image/png": "[encoded data removed]"
          },
          "metadata": {}
        }
      ]
    },
    {
      "cell_type": "code",
      "source": [
        "delt=np.sqrt(1/(n-2)*sum((Y-y_2(X))**2))\n",
        "delt"
      ],
      "metadata": {
        "colab": {
          "base_uri": "https://localhost:8080/"
        },
        "id": "2gVTneZsjeM4",
        "outputId": "9c29b032-111e-41a0-e140-b57388cf4a0c"
      },
      "execution_count": null,
      "outputs": [
        {
          "output_type": "execute_result",
          "data": {
            "text/plain": [
              "0.3177269143195399"
            ]
          },
          "metadata": {},
          "execution_count": 11
        }
      ]
    },
    {
      "cell_type": "code",
      "source": [
        "B1l = bet_1 - (scipy.stats.t.ppf(0.975, n - 2) * delt)/(np.sqrt(np.sum(X**2) - (1/n) * (np.sum(X)) ** 2))\n",
        "B1r = bet_1 - (-scipy.stats.t.ppf(0.975, n - 2) * delt)/(np.sqrt(np.sum(X**2) - (1/n) * (np.sum(X)) ** 2))\n",
        "print(B1l,B1r)"
      ],
      "metadata": {
        "colab": {
          "base_uri": "https://localhost:8080/"
        },
        "id": "4HngZevm9fPP",
        "outputId": "7fb8c08b-0070-4531-b936-54e39a4a747b"
      },
      "execution_count": null,
      "outputs": [
        {
          "output_type": "stream",
          "name": "stdout",
          "text": [
            "0.7017180823390416 0.8529768858369826\n"
          ]
        }
      ]
    },
    {
      "cell_type": "code",
      "source": [
        "B0l = bet_0 - (scipy.stats.t.ppf(0.975, n - 2) * delt * np.sqrt(np.sum(X**2)))/(np.sqrt(n) * np.sqrt(np.sum(X**2) - (1/n) * (np.sum(X)) ** 2))\n",
        "B0r = bet_0 - (-scipy.stats.t.ppf(0.975, n - 2) * delt * np.sqrt(np.sum(X**2)))/(np.sqrt(n) * np.sqrt(np.sum(X**2) - (1/n) * (np.sum(X)) ** 2))\n",
        "print(B0l,B0r)"
      ],
      "metadata": {
        "colab": {
          "base_uri": "https://localhost:8080/"
        },
        "id": "vT_5lkQ8-dS0",
        "outputId": "64fccaa2-8915-4805-a196-87ee4abdb2e7"
      },
      "execution_count": null,
      "outputs": [
        {
          "output_type": "stream",
          "name": "stdout",
          "text": [
            "5.05342936499812 5.1689697602102065\n"
          ]
        }
      ]
    },
    {
      "cell_type": "code",
      "source": [
        "deltal = np.sqrt((delt ** 2 * (n - 2))/scipy.stats.chi2.ppf(0.975, n - 2))\n",
        "deltar = np.sqrt((delt ** 2 * (n - 2))/scipy.stats.chi2.ppf(0.025, n - 2))"
      ],
      "metadata": {
        "id": "13Te64sO-sZ2"
      },
      "execution_count": null,
      "outputs": []
    },
    {
      "cell_type": "code",
      "source": [
        "print(deltal, deltar)"
      ],
      "metadata": {
        "id": "B9wWl727-v18",
        "outputId": "3fa028e3-617a-4ea4-8c27-bc5139bf7c6e",
        "colab": {
          "base_uri": "https://localhost:8080/"
        }
      },
      "execution_count": null,
      "outputs": [
        {
          "output_type": "stream",
          "name": "stdout",
          "text": [
            "0.28184593955820975 0.3641592939171723\n"
          ]
        }
      ]
    }
  ]
}