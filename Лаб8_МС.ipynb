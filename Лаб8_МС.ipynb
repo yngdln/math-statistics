{
  "cells": [
    {
      "cell_type": "markdown",
      "metadata": {
        "id": "view-in-github",
        "colab_type": "text"
      },
      "source": [
        "<a href=\"https://colab.research.google.com/github/yngdln/math-statistics/blob/main/%D0%9B%D0%B0%D0%B18_%D0%9C%D0%A1.ipynb\" target=\"_parent\"><img src=\"https://colab.research.google.com/assets/colab-badge.svg\" alt=\"Open In Colab\"/></a>"
      ]
    },
    {
      "cell_type": "code",
      "execution_count": null,
      "id": "9198eca6",
      "metadata": {
        "id": "9198eca6"
      },
      "outputs": [],
      "source": [
        "import numpy as np\n",
        "import matplotlib.pyplot as plt\n",
        "import math"
      ]
    },
    {
      "cell_type": "code",
      "execution_count": null,
      "id": "886449fc",
      "metadata": {
        "id": "886449fc"
      },
      "outputs": [],
      "source": [
        "X = np.array([0.485,\n",
        "0.883,\n",
        "0.313,\n",
        "0.08,\n",
        "1.177,\n",
        "0.258,\n",
        "0.524,\n",
        "3.106,\n",
        "0.307,\n",
        "0.812,\n",
        "0.265,\n",
        "0.856,\n",
        "0.092,\n",
        "0.796,\n",
        "0.707,\n",
        "0.428,\n",
        "1.282,\n",
        "0.291,\n",
        "0.407,\n",
        "0.158,\n",
        "0.143,\n",
        "0.685,\n",
        "0.338,\n",
        "0.278,\n",
        "0.409,\n",
        "1.547,\n",
        "0.471,\n",
        "0.097,\n",
        "0.014,\n",
        "0.307,\n",
        "0.38,\n",
        "2.231,\n",
        "0.056,\n",
        "0.199,\n",
        "0.148,\n",
        "8.038e-3,\n",
        "0.511,\n",
        "0.327,\n",
        "0.461,\n",
        "0.035,\n",
        "0.497,\n",
        "0.299,\n",
        "0.166,\n",
        "0.113,\n",
        "0.468,\n",
        "0.851,\n",
        "0.444,\n",
        "1.625,\n",
        "0.513,\n",
        "0.131,\n",
        "0.616,\n",
        "0.114,\n",
        "1.642,\n",
        "0.036,\n",
        "0.553,\n",
        "0.447,\n",
        "0.126,\n",
        "0.657,\n",
        "1.167,\n",
        "0.558,\n",
        "0.231,\n",
        "0.391,\n",
        "0.289,\n",
        "0.482,\n",
        "0.084,\n",
        "0.172,\n",
        "0.631,\n",
        "0.414,\n",
        "0.149,\n",
        "0.243,\n",
        "0.017,\n",
        "0.43,\n",
        "0.021,\n",
        "0.519,\n",
        "0.462,\n",
        "0.154,\n",
        "1.365,\n",
        "0.614,\n",
        "0.146,\n",
        "2.436,\n",
        "0.283,\n",
        "0.031,\n",
        "0.677,\n",
        "0.646,\n",
        "0.641,\n",
        "0.613,\n",
        "0.59,\n",
        "0.357,\n",
        "1.479,\n",
        "0.297,\n",
        "0.093,\n",
        "0.42,\n",
        "0.04,\n",
        "0.788,\n",
        "0.982,\n",
        "0.01,\n",
        "0.264,\n",
        "0.343,\n",
        "1.142,\n",
        "0.13\n",
        "])"
      ]
    },
    {
      "cell_type": "code",
      "execution_count": null,
      "id": "868c0919",
      "metadata": {
        "colab": {
          "base_uri": "https://localhost:8080/"
        },
        "id": "868c0919",
        "outputId": "a86bf2e5-1729-4cd4-cc21-04e36ae9700e"
      },
      "outputs": [
        {
          "output_type": "execute_result",
          "data": {
            "text/plain": [
              "0.008038"
            ]
          },
          "metadata": {},
          "execution_count": 3
        }
      ],
      "source": [
        "min(X)"
      ]
    },
    {
      "cell_type": "code",
      "execution_count": null,
      "id": "3fae2964",
      "metadata": {
        "colab": {
          "base_uri": "https://localhost:8080/"
        },
        "id": "3fae2964",
        "outputId": "85eec640-223b-4766-b806-e755552731e8"
      },
      "outputs": [
        {
          "output_type": "execute_result",
          "data": {
            "text/plain": [
              "array([0.485   , 0.883   , 0.313   , 0.08    , 1.177   , 0.258   ,\n",
              "       0.524   , 3.106   , 0.307   , 0.812   , 0.265   , 0.856   ,\n",
              "       0.092   , 0.796   , 0.707   , 0.428   , 1.282   , 0.291   ,\n",
              "       0.407   , 0.158   , 0.143   , 0.685   , 0.338   , 0.278   ,\n",
              "       0.409   , 1.547   , 0.471   , 0.097   , 0.014   , 0.307   ,\n",
              "       0.38    , 2.231   , 0.056   , 0.199   , 0.148   , 0.008038,\n",
              "       0.511   , 0.327   , 0.461   , 0.035   , 0.497   , 0.299   ,\n",
              "       0.166   , 0.113   , 0.468   , 0.851   , 0.444   , 1.625   ,\n",
              "       0.513   , 0.131   , 0.616   , 0.114   , 1.642   , 0.036   ,\n",
              "       0.553   , 0.447   , 0.126   , 0.657   , 1.167   , 0.558   ,\n",
              "       0.231   , 0.391   , 0.289   , 0.482   , 0.084   , 0.172   ,\n",
              "       0.631   , 0.414   , 0.149   , 0.243   , 0.017   , 0.43    ,\n",
              "       0.021   , 0.519   , 0.462   , 0.154   , 1.365   , 0.614   ,\n",
              "       0.146   , 2.436   , 0.283   , 0.031   , 0.677   , 0.646   ,\n",
              "       0.641   , 0.613   , 0.59    , 0.357   , 1.479   , 0.297   ,\n",
              "       0.093   , 0.42    , 0.04    , 0.788   , 0.982   , 0.01    ,\n",
              "       0.264   , 0.343   , 1.142   , 0.13    ])"
            ]
          },
          "metadata": {},
          "execution_count": 4
        }
      ],
      "source": [
        "X"
      ]
    },
    {
      "cell_type": "code",
      "source": [
        "np.sum(X)"
      ],
      "metadata": {
        "id": "27Kpx9f2HfgC",
        "outputId": "770dd3bf-b712-493e-df6a-fcde2e1b4537",
        "colab": {
          "base_uri": "https://localhost:8080/"
        }
      },
      "id": "27Kpx9f2HfgC",
      "execution_count": null,
      "outputs": [
        {
          "output_type": "execute_result",
          "data": {
            "text/plain": [
              "51.97103800000001"
            ]
          },
          "metadata": {},
          "execution_count": 5
        }
      ]
    },
    {
      "cell_type": "code",
      "execution_count": null,
      "id": "c6fc92d1",
      "metadata": {
        "id": "c6fc92d1"
      },
      "outputs": [],
      "source": [
        "alpha = 0.05"
      ]
    },
    {
      "cell_type": "code",
      "execution_count": null,
      "id": "f7c970f3",
      "metadata": {
        "colab": {
          "base_uri": "https://localhost:8080/"
        },
        "id": "f7c970f3",
        "outputId": "35c572fd-3335-4653-aeba-2c60efb7f8ee"
      },
      "outputs": [
        {
          "output_type": "execute_result",
          "data": {
            "text/plain": [
              "100"
            ]
          },
          "metadata": {},
          "execution_count": 7
        }
      ],
      "source": [
        "n = len(X)\n",
        "n"
      ]
    },
    {
      "cell_type": "code",
      "execution_count": null,
      "id": "8d99c54a",
      "metadata": {
        "colab": {
          "base_uri": "https://localhost:8080/"
        },
        "id": "8d99c54a",
        "outputId": "4c9a167c-e154-49e4-8482-94960f30d04b"
      },
      "outputs": [
        {
          "output_type": "execute_result",
          "data": {
            "text/plain": [
              "7"
            ]
          },
          "metadata": {},
          "execution_count": 8
        }
      ],
      "source": [
        "l = math.trunc(1 + np.log2(120))\n",
        "l # количество интервалов группировки по правилу Стерджеса"
      ]
    },
    {
      "cell_type": "code",
      "execution_count": null,
      "id": "d5488162",
      "metadata": {
        "colab": {
          "base_uri": "https://localhost:8080/"
        },
        "id": "d5488162",
        "outputId": "f35bb044-c278-48d0-cc85-9dd5993f57b2"
      },
      "outputs": [
        {
          "output_type": "execute_result",
          "data": {
            "text/plain": [
              "0.51971038"
            ]
          },
          "metadata": {},
          "execution_count": 9
        }
      ],
      "source": [
        "mean = np.mean(X)\n",
        "mean"
      ]
    },
    {
      "cell_type": "code",
      "execution_count": null,
      "id": "ff7406a3",
      "metadata": {
        "id": "ff7406a3"
      },
      "outputs": [],
      "source": [
        "lam=1/mean"
      ]
    },
    {
      "cell_type": "code",
      "execution_count": null,
      "id": "37183485",
      "metadata": {
        "colab": {
          "base_uri": "https://localhost:8080/"
        },
        "id": "37183485",
        "outputId": "4cdf7df6-3954-4d2f-a319-ffb5780e58c1"
      },
      "outputs": [
        {
          "output_type": "execute_result",
          "data": {
            "text/plain": [
              "0.2764588170146956"
            ]
          },
          "metadata": {},
          "execution_count": 11
        }
      ],
      "source": [
        "var = np.var(X)\n",
        "var"
      ]
    },
    {
      "cell_type": "code",
      "execution_count": null,
      "id": "c4d504ca",
      "metadata": {
        "colab": {
          "base_uri": "https://localhost:8080/"
        },
        "id": "c4d504ca",
        "outputId": "0f11874e-c9e0-4e5d-f86f-17920114b09c"
      },
      "outputs": [
        {
          "output_type": "execute_result",
          "data": {
            "text/plain": [
              "0.44256599999999996"
            ]
          },
          "metadata": {},
          "execution_count": 12
        }
      ],
      "source": [
        "(max(X) - min(X))/l"
      ]
    },
    {
      "cell_type": "code",
      "execution_count": null,
      "id": "44ce6928",
      "metadata": {
        "colab": {
          "base_uri": "https://localhost:8080/"
        },
        "id": "44ce6928",
        "outputId": "ef4c0421-7dc6-4f75-93c5-900d454b5f5e"
      },
      "outputs": [
        {
          "output_type": "execute_result",
          "data": {
            "text/plain": [
              "(array([57, 30,  5,  5,  0,  2,  1]),\n",
              " array([0.008038, 0.450604, 0.89317 , 1.335736, 1.778302, 2.220868,\n",
              "        2.663434, 3.106   ]))"
            ]
          },
          "metadata": {},
          "execution_count": 13
        }
      ],
      "source": [
        "hist = np.histogram(X, l) # 1-ое значение: количество чисел в i интервале. 2-ое значение: край интервала\n",
        "hist"
      ]
    },
    {
      "cell_type": "code",
      "execution_count": null,
      "id": "4ad1dcb7",
      "metadata": {
        "id": "4ad1dcb7"
      },
      "outputs": [],
      "source": [
        "def ex(x, lam):\n",
        "  n=len(x)\n",
        "  ret=np.zeros(n)\n",
        "  e=math.exp(1)\n",
        "  for i in range (n):\n",
        "    ret[i]=lam*e**(-lam*x[i])\n",
        "  return ret"
      ]
    },
    {
      "cell_type": "code",
      "source": [
        "def F(x, lam):\n",
        "  e=math.exp(1)\n",
        "  return 1-e**(-lam*x)"
      ],
      "metadata": {
        "id": "qycjI8IKlNgV"
      },
      "id": "qycjI8IKlNgV",
      "execution_count": null,
      "outputs": []
    },
    {
      "cell_type": "code",
      "execution_count": null,
      "id": "8f71aa11",
      "metadata": {
        "colab": {
          "base_uri": "https://localhost:8080/",
          "height": 432
        },
        "id": "8f71aa11",
        "outputId": "f72719ce-8b30-497d-d795-4420e9052503"
      },
      "outputs": [
        {
          "output_type": "display_data",
          "data": {
            "text/plain": [
              "<Figure size 640x480 with 1 Axes>"
            ],
            "image/png": "[encoded data removed]"
          },
          "metadata": {}
        }
      ],
      "source": [
        "x = np.linspace(0, 3, 1000)\n",
        "y = ex(x,lam)\n",
        "plt.plot(x, y,'red')\n",
        "plt.hist(X, density=True,bins=l)\n",
        "plt.show()"
      ]
    },
    {
      "cell_type": "code",
      "execution_count": null,
      "id": "cc5c73f4",
      "metadata": {
        "colab": {
          "base_uri": "https://localhost:8080/"
        },
        "id": "cc5c73f4",
        "outputId": "49d96483-e020-41da-c0d6-2438b9c5bd21"
      },
      "outputs": [
        {
          "output_type": "execute_result",
          "data": {
            "text/plain": [
              "array([0.008038, 0.450604, 0.89317 , 1.335736, 1.778302, 2.220868,\n",
              "       2.663434, 3.106   ])"
            ]
          },
          "metadata": {},
          "execution_count": 17
        }
      ],
      "source": [
        "int1 = hist[1]\n",
        "int1"
      ]
    },
    {
      "cell_type": "code",
      "execution_count": null,
      "id": "af6540ca",
      "metadata": {
        "colab": {
          "base_uri": "https://localhost:8080/"
        },
        "id": "af6540ca",
        "outputId": "2f6197ed-d903-4123-fcf8-95bf8bd132e6"
      },
      "outputs": [
        {
          "output_type": "execute_result",
          "data": {
            "text/plain": [
              "8"
            ]
          },
          "metadata": {},
          "execution_count": 18
        }
      ],
      "source": [
        "len(int1)"
      ]
    },
    {
      "cell_type": "code",
      "source": [
        "p_emp=np.zeros(l)\n",
        "for k in range (n):\n",
        "  for i in range (l):\n",
        "   if(int1[i]<X[k]<int1[i+1]):\n",
        "      p_emp[i]+=1/(n)\n",
        "p_emp"
      ],
      "metadata": {
        "colab": {
          "base_uri": "https://localhost:8080/"
        },
        "id": "8c_Q1YUruoT8",
        "outputId": "6e53c15f-12a9-45cc-b429-2e6cdaab70d1"
      },
      "id": "8c_Q1YUruoT8",
      "execution_count": null,
      "outputs": [
        {
          "output_type": "execute_result",
          "data": {
            "text/plain": [
              "array([0.56, 0.3 , 0.05, 0.05, 0.  , 0.02, 0.  ])"
            ]
          },
          "metadata": {},
          "execution_count": 35
        }
      ]
    },
    {
      "cell_type": "code",
      "source": [
        "\n",
        "F_emp=np.zeros(l)\n",
        "F_emp[0]=p_emp[0]\n",
        "for i in range (l-1):\n",
        "      F_emp[i+1]=F_emp[i]+p_emp[i+1]\n",
        "F_emp"
      ],
      "metadata": {
        "colab": {
          "base_uri": "https://localhost:8080/"
        },
        "id": "8qa2KFmKrTec",
        "outputId": "7a21aa44-fcb3-47ab-bca7-52de22eb5eb1"
      },
      "id": "8qa2KFmKrTec",
      "execution_count": null,
      "outputs": [
        {
          "output_type": "execute_result",
          "data": {
            "text/plain": [
              "array([0.56, 0.86, 0.91, 0.96, 0.96, 0.98, 0.98])"
            ]
          },
          "metadata": {},
          "execution_count": 20
        }
      ]
    },
    {
      "cell_type": "code",
      "source": [
        "zn=np.zeros(l)\n",
        "for i in range (l):\n",
        "      zn[i]=(int1[i]+int1[i+1])/2\n",
        "zn"
      ],
      "metadata": {
        "colab": {
          "base_uri": "https://localhost:8080/"
        },
        "id": "65gOwu6TzQpR",
        "outputId": "d0e02cfa-871c-43cd-eec7-3e4165fec23a"
      },
      "id": "65gOwu6TzQpR",
      "execution_count": null,
      "outputs": [
        {
          "output_type": "execute_result",
          "data": {
            "text/plain": [
              "array([0.229321, 0.671887, 1.114453, 1.557019, 1.999585, 2.442151,\n",
              "       2.884717])"
            ]
          },
          "metadata": {},
          "execution_count": 21
        }
      ]
    },
    {
      "cell_type": "markdown",
      "source": [],
      "metadata": {
        "id": "A4gb7NJc0ZL3"
      },
      "id": "A4gb7NJc0ZL3"
    },
    {
      "cell_type": "code",
      "source": [
        "p_teor=np.zeros(l)\n",
        "for i in range (l):\n",
        "  p_teor[i]=F(int1[i+1],lam)-F(int1[i],lam)\n",
        "sum(p_teor)"
      ],
      "metadata": {
        "colab": {
          "base_uri": "https://localhost:8080/"
        },
        "id": "wEz_m-_Fzv0c",
        "outputId": "748fbcb7-ee2c-4f0a-fd0a-3226142d08dd"
      },
      "id": "wEz_m-_Fzv0c",
      "execution_count": null,
      "outputs": [
        {
          "output_type": "execute_result",
          "data": {
            "text/plain": [
              "0.9821147502566412"
            ]
          },
          "metadata": {},
          "execution_count": 51
        }
      ]
    },
    {
      "cell_type": "code",
      "source": [
        "chi2_emp=np.sum((n*p_emp-n*p_teor)**2/n*p_teor)\n",
        "chi2_emp"
      ],
      "metadata": {
        "colab": {
          "base_uri": "https://localhost:8080/"
        },
        "id": "XVjdgHkD0Tw5",
        "outputId": "6436de23-744f-4704-ef9a-1bee66dc3a23"
      },
      "id": "XVjdgHkD0Tw5",
      "execution_count": null,
      "outputs": [
        {
          "output_type": "execute_result",
          "data": {
            "text/plain": [
              "0.11490494982384816"
            ]
          },
          "metadata": {},
          "execution_count": 49
        }
      ]
    },
    {
      "cell_type": "code",
      "source": [
        "from scipy.stats import chi2\n",
        "chi2(5).ppf(1-alpha)"
      ],
      "metadata": {
        "colab": {
          "base_uri": "https://localhost:8080/"
        },
        "id": "ndCr5MXYecGQ",
        "outputId": "3c9bb7c8-39c7-4ce8-8cc2-deb8ad747225"
      },
      "id": "ndCr5MXYecGQ",
      "execution_count": null,
      "outputs": [
        {
          "output_type": "execute_result",
          "data": {
            "text/plain": [
              "11.070497693516351"
            ]
          },
          "metadata": {},
          "execution_count": 43
        }
      ]
    }
  ],
  "metadata": {
    "kernelspec": {
      "display_name": "Python 3 (ipykernel)",
      "language": "python",
      "name": "python3"
    },
    "language_info": {
      "codemirror_mode": {
        "name": "ipython",
        "version": 3
      },
      "file_extension": ".py",
      "mimetype": "text/x-python",
      "name": "python",
      "nbconvert_exporter": "python",
      "pygments_lexer": "ipython3",
      "version": "3.9.7"
    },
    "colab": {
      "provenance": [],
      "include_colab_link": true
    }
  },
  "nbformat": 4,
  "nbformat_minor": 5
}