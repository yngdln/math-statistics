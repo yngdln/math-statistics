{
  "cells": [
    {
      "cell_type": "markdown",
      "metadata": {
        "id": "view-in-github",
        "colab_type": "text"
      },
      "source": [
        "<a href=\"https://colab.research.google.com/github/yngdln/math-statistics/blob/main/%D0%9B%D0%B0%D0%B17_%D0%9C%D0%A1.ipynb\" target=\"_parent\"><img src=\"https://colab.research.google.com/assets/colab-badge.svg\" alt=\"Open In Colab\"/></a>"
      ]
    },
    {
      "cell_type": "code",
      "execution_count": null,
      "id": "6dfac817",
      "metadata": {
        "id": "6dfac817"
      },
      "outputs": [],
      "source": [
        "import numpy as np\n",
        "import pandas as pd\n",
        "import matplotlib.pyplot as plt"
      ]
    },
    {
      "cell_type": "code",
      "execution_count": null,
      "id": "6cde92ba",
      "metadata": {
        "id": "6cde92ba"
      },
      "outputs": [],
      "source": [
        "np.set_printoptions(suppress=True)"
      ]
    },
    {
      "cell_type": "code",
      "execution_count": null,
      "id": "5897c06d",
      "metadata": {
        "id": "5897c06d"
      },
      "outputs": [],
      "source": [
        "data = pd.read_excel('comments.xlsx')"
      ]
    },
    {
      "cell_type": "code",
      "execution_count": null,
      "id": "de986ddd",
      "metadata": {
        "id": "de986ddd"
      },
      "outputs": [],
      "source": [
        "comments = data.Comment_Datail"
      ]
    },
    {
      "cell_type": "code",
      "execution_count": null,
      "id": "ba6e6f78",
      "metadata": {
        "id": "ba6e6f78",
        "outputId": "eb5d8acf-3fe6-4944-84ae-83a9788c83e4"
      },
      "outputs": [
        {
          "data": {
            "text/plain": [
              "0      cross_validation is deprecated. You can use mo...\n",
              "1      youtubers like this guy, TechWithTim, Neural N...\n",
              "2      Hello all.  I'm posting sentdex's code again w...\n",
              "3      I have tried many other courses and tutorial b...\n",
              "4      Interestingly enough, I'm getting almost the s...\n",
              "                             ...                        \n",
              "590    I am a Web developer(fresher)\\nI was searching...\n",
              "591    WAITING FOR IT FROM 1 MONTH HOPE TO LEARN NEW ...\n",
              "592    great lecture but notes will be there for this...\n",
              "593    Uh r inspiration for alot of people... keeping...\n",
              "594    U gave a whole big contribution to web develop...\n",
              "Name: Comment_Datail, Length: 595, dtype: object"
            ]
          },
          "execution_count": 7,
          "metadata": {},
          "output_type": "execute_result"
        }
      ],
      "source": [
        "comments"
      ]
    },
    {
      "cell_type": "code",
      "execution_count": null,
      "id": "5eb11ea8",
      "metadata": {
        "id": "5eb11ea8"
      },
      "outputs": [],
      "source": [
        "words = list(comments.str.split().apply(len))"
      ]
    },
    {
      "cell_type": "code",
      "execution_count": null,
      "id": "3222ba7b",
      "metadata": {
        "id": "3222ba7b"
      },
      "outputs": [],
      "source": [
        "words.remove(1408) # удалим выбросы\n",
        "words.remove(775)"
      ]
    },
    {
      "cell_type": "code",
      "execution_count": null,
      "id": "655855a1",
      "metadata": {
        "id": "655855a1",
        "outputId": "95949903-c7e5-4cbc-835c-ed057b238345"
      },
      "outputs": [
        {
          "data": {
            "text/plain": [
              "1"
            ]
          },
          "execution_count": 10,
          "metadata": {},
          "output_type": "execute_result"
        }
      ],
      "source": [
        "min(words)"
      ]
    },
    {
      "cell_type": "code",
      "execution_count": null,
      "id": "2c754db6",
      "metadata": {
        "id": "2c754db6",
        "outputId": "f9e38676-9744-405c-8872-08b2389dc13f"
      },
      "outputs": [
        {
          "data": {
            "text/plain": [
              "278"
            ]
          },
          "execution_count": 11,
          "metadata": {},
          "output_type": "execute_result"
        }
      ],
      "source": [
        "max(words)"
      ]
    },
    {
      "cell_type": "code",
      "execution_count": null,
      "id": "98b46733",
      "metadata": {
        "id": "98b46733",
        "outputId": "49133b2c-d7d1-4e6c-92a5-c1ffc4225fd9"
      },
      "outputs": [
        {
          "data": {
            "text/plain": [
              "593"
            ]
          },
          "execution_count": 59,
          "metadata": {},
          "output_type": "execute_result"
        }
      ],
      "source": [
        "n = len(words)\n",
        "n"
      ]
    },
    {
      "cell_type": "code",
      "execution_count": null,
      "id": "6c831c62",
      "metadata": {
        "id": "6c831c62"
      },
      "outputs": [],
      "source": [
        "import math"
      ]
    },
    {
      "cell_type": "code",
      "execution_count": null,
      "id": "9de365e8",
      "metadata": {
        "id": "9de365e8",
        "outputId": "50cf70d3-c012-46b5-c5e3-27adbd875992"
      },
      "outputs": [
        {
          "data": {
            "text/plain": [
              "14"
            ]
          },
          "execution_count": 114,
          "metadata": {},
          "output_type": "execute_result"
        }
      ],
      "source": [
        "l = math.trunc(1 + np.log2(n)) + 4\n",
        "l"
      ]
    },
    {
      "cell_type": "code",
      "execution_count": null,
      "id": "f6724769",
      "metadata": {
        "id": "f6724769",
        "outputId": "154cb0c4-dc47-4f8f-8a83-a8ea7939387e"
      },
      "outputs": [
        {
          "data": {
            "text/plain": [
              "(array([0.0265066 , 0.01389252, 0.00502858, 0.00255691, 0.00119322,\n",
              "        0.00059661, 0.00017046, 0.00017046, 0.00017046, 0.00017046,\n",
              "        0.        , 0.        , 0.        , 0.00008523]),\n",
              " array([  1.        ,  20.78571429,  40.57142857,  60.35714286,\n",
              "         80.14285714,  99.92857143, 119.71428571, 139.5       ,\n",
              "        159.28571429, 179.07142857, 198.85714286, 218.64285714,\n",
              "        238.42857143, 258.21428571, 278.        ]),\n",
              " <BarContainer object of 14 artists>)"
            ]
          },
          "execution_count": 37,
          "metadata": {},
          "output_type": "execute_result"
        },
        {
          "data": {
            "image/png": "[encoded data removed]",
            "text/plain": [
              "<Figure size 432x288 with 1 Axes>"
            ]
          },
          "metadata": {
            "needs_background": "light"
          },
          "output_type": "display_data"
        }
      ],
      "source": [
        "plt.hist(words, bins=l, edgecolor='black', density=True, color='red')"
      ]
    },
    {
      "cell_type": "code",
      "execution_count": null,
      "id": "1c79f859",
      "metadata": {
        "id": "1c79f859"
      },
      "outputs": [],
      "source": [
        "mean = np.mean(words)\n",
        "var = np.var(words)"
      ]
    },
    {
      "cell_type": "code",
      "execution_count": null,
      "id": "443b458d",
      "metadata": {
        "id": "443b458d"
      },
      "outputs": [],
      "source": [
        "a = np.log(mean) - 1 / 2 * np.log(var/mean**2 + 1)"
      ]
    },
    {
      "cell_type": "code",
      "execution_count": null,
      "id": "7fd529ce",
      "metadata": {
        "id": "7fd529ce"
      },
      "outputs": [],
      "source": [
        "d = np.sqrt(np.log(var/mean**2 + 1))"
      ]
    },
    {
      "cell_type": "code",
      "execution_count": null,
      "id": "9dc111b6",
      "metadata": {
        "id": "9dc111b6"
      },
      "outputs": [],
      "source": [
        "lambd = 1 / mean"
      ]
    },
    {
      "cell_type": "code",
      "execution_count": null,
      "id": "80b037da",
      "metadata": {
        "id": "80b037da"
      },
      "outputs": [],
      "source": [
        "def my_exp(x):\n",
        "    if x > 0:\n",
        "        return lambd * np.exp(-lambd*x)\n",
        "    else: return 0\n",
        "def cdf(x):\n",
        "    if x > 0:\n",
        "        return 1 - np.exp(-lambd*x)"
      ]
    },
    {
      "cell_type": "code",
      "execution_count": null,
      "id": "f16343b2",
      "metadata": {
        "id": "f16343b2"
      },
      "outputs": [],
      "source": [
        "from scipy.stats import lognorm"
      ]
    },
    {
      "cell_type": "code",
      "execution_count": null,
      "id": "20536ff6",
      "metadata": {
        "id": "20536ff6"
      },
      "outputs": [],
      "source": [
        "x = np.linspace(1, 300, 1000)"
      ]
    },
    {
      "cell_type": "code",
      "execution_count": null,
      "id": "2d3c3310",
      "metadata": {
        "id": "2d3c3310"
      },
      "outputs": [],
      "source": [
        "y = lognorm.pdf(x, s=a, scale=d)"
      ]
    },
    {
      "cell_type": "code",
      "execution_count": null,
      "id": "a56f4210",
      "metadata": {
        "id": "a56f4210"
      },
      "outputs": [],
      "source": [
        "y_1 = list(map(my_exp, x))"
      ]
    },
    {
      "cell_type": "code",
      "execution_count": null,
      "id": "e21acfee",
      "metadata": {
        "id": "e21acfee",
        "outputId": "a0663988-a14f-456a-bece-9285bb5a5af4"
      },
      "outputs": [
        {
          "data": {
            "image/png": "[encoded data removed]",
            "text/plain": [
              "<Figure size 432x288 with 1 Axes>"
            ]
          },
          "metadata": {
            "needs_background": "light"
          },
          "output_type": "display_data"
        }
      ],
      "source": [
        "plt.plot(x, y_1, c='black')\n",
        "plt.hist(words, bins=l, edgecolor='black', density=True, color='red')\n",
        "plt.show()"
      ]
    },
    {
      "cell_type": "code",
      "execution_count": null,
      "id": "c6d15d70",
      "metadata": {
        "id": "c6d15d70"
      },
      "outputs": [],
      "source": [
        "### Показательное?"
      ]
    },
    {
      "cell_type": "code",
      "execution_count": null,
      "id": "79b3161b",
      "metadata": {
        "id": "79b3161b",
        "outputId": "9480e4fa-e85b-497f-9c76-06d4c0a60c04"
      },
      "outputs": [
        {
          "data": {
            "text/plain": [
              "0.03558142325693028"
            ]
          },
          "execution_count": 54,
          "metadata": {},
          "output_type": "execute_result"
        }
      ],
      "source": [
        "lambd"
      ]
    },
    {
      "cell_type": "code",
      "execution_count": null,
      "id": "598b7b47",
      "metadata": {
        "id": "598b7b47"
      },
      "outputs": [],
      "source": [
        "from scipy.stats import norm"
      ]
    },
    {
      "cell_type": "code",
      "execution_count": null,
      "id": "33fd6849",
      "metadata": {
        "id": "33fd6849"
      },
      "outputs": [],
      "source": [
        "alpha = 0.1"
      ]
    },
    {
      "cell_type": "code",
      "execution_count": null,
      "id": "576b254d",
      "metadata": {
        "id": "576b254d",
        "outputId": "0e3b3de4-8ef6-4918-db7e-29566b4416cb"
      },
      "outputs": [
        {
          "name": "stdout",
          "output_type": "stream",
          "text": [
            "0.03317803892290015 --- 0.03558142325693028 --- 0.03798480759096041 ; alpha = 0.1\n"
          ]
        }
      ],
      "source": [
        "lambd_left = (norm.ppf(alpha/2) * np.sqrt(n) + n) / np.sum(words)\n",
        "lambd_right = (norm.ppf(1-alpha/2) * np.sqrt(n) + n) / np.sum(words)\n",
        "print(lambd_left, '---', lambd, '---', lamb_right, '; alpha =', alpha)"
      ]
    },
    {
      "cell_type": "code",
      "execution_count": null,
      "id": "754ae8e8",
      "metadata": {
        "id": "754ae8e8"
      },
      "outputs": [],
      "source": [
        "hist = np.histogram(words, l)\n",
        "int1 = hist[1]"
      ]
    },
    {
      "cell_type": "code",
      "execution_count": null,
      "id": "2764b4bc",
      "metadata": {
        "id": "2764b4bc",
        "outputId": "9404eae4-8cf6-4a99-9713-ef818bd2cc0b"
      },
      "outputs": [
        {
          "data": {
            "text/plain": [
              "array([  1.        ,  20.78571429,  40.57142857,  60.35714286,\n",
              "        80.14285714,  99.92857143, 119.71428571, 139.5       ,\n",
              "       159.28571429, 179.07142857, 198.85714286, 218.64285714,\n",
              "       238.42857143, 258.21428571, 278.        ])"
            ]
          },
          "execution_count": 116,
          "metadata": {},
          "output_type": "execute_result"
        }
      ],
      "source": [
        "int1"
      ]
    },
    {
      "cell_type": "code",
      "execution_count": null,
      "id": "ff65d3f1",
      "metadata": {
        "id": "ff65d3f1"
      },
      "outputs": [],
      "source": [
        "pt = list([0]*14)\n",
        "pt[0] = cdf(int1[1])"
      ]
    },
    {
      "cell_type": "code",
      "execution_count": null,
      "id": "decf5a6c",
      "metadata": {
        "id": "decf5a6c"
      },
      "outputs": [],
      "source": [
        "for i in range(1, 13):\n",
        "    pt[i] = cdf(int1[i+1]) - cdf(int1[i])\n",
        "pt[13] = cdf(1000) - cdf(int1[13])"
      ]
    },
    {
      "cell_type": "code",
      "execution_count": null,
      "id": "1e8a8e87",
      "metadata": {
        "id": "1e8a8e87",
        "outputId": "ea61f581-9290-4cb9-9425-eec13ca8f22c"
      },
      "outputs": [
        {
          "data": {
            "text/plain": [
              "[0.5226881832074823,\n",
              " 0.24123290837454048,\n",
              " 0.11931404101045129,\n",
              " 0.05901284562776532,\n",
              " 0.029187813266515872,\n",
              " 0.014436322028168247,\n",
              " 0.007140219508669388,\n",
              " 0.0035315598067502396,\n",
              " 0.0017467130602233372,\n",
              " 0.0008639260501615009,\n",
              " 0.0004272987001380235,\n",
              " 0.00021134237022435443,\n",
              " 0.00010453015054245895,\n",
              " 0.00010229683836682213]"
            ]
          },
          "execution_count": 135,
          "metadata": {},
          "output_type": "execute_result"
        }
      ],
      "source": [
        "pt"
      ]
    },
    {
      "cell_type": "code",
      "execution_count": null,
      "id": "45299553",
      "metadata": {
        "id": "45299553",
        "outputId": "2c375b14-9a5c-46c7-97bb-69451b15b182"
      },
      "outputs": [
        {
          "data": {
            "text/plain": [
              "0.9999999999999997"
            ]
          },
          "execution_count": 136,
          "metadata": {},
          "output_type": "execute_result"
        }
      ],
      "source": [
        "sum(pt)"
      ]
    },
    {
      "cell_type": "code",
      "execution_count": null,
      "id": "3b7db2ff",
      "metadata": {
        "id": "3b7db2ff"
      },
      "outputs": [],
      "source": [
        "pt1 = [a*n for a in pt]"
      ]
    },
    {
      "cell_type": "code",
      "execution_count": null,
      "id": "5f874bee",
      "metadata": {
        "id": "5f874bee",
        "outputId": "1fb8fdee-68ba-4cda-b09c-f595cc403e67"
      },
      "outputs": [
        {
          "data": {
            "text/plain": [
              "592.9999999999998"
            ]
          },
          "execution_count": 138,
          "metadata": {},
          "output_type": "execute_result"
        }
      ],
      "source": [
        "sum(pt1)"
      ]
    },
    {
      "cell_type": "markdown",
      "id": "c6847e4c",
      "metadata": {
        "id": "c6847e4c"
      },
      "source": [
        "#### Выборочный хи-квадрат"
      ]
    },
    {
      "cell_type": "code",
      "execution_count": null,
      "id": "cff74c4d",
      "metadata": {
        "id": "cff74c4d"
      },
      "outputs": [],
      "source": [
        "chi2 = 0\n",
        "f1 = hist[0]\n",
        "for i in range(13):\n",
        "    chi2 += (pt1[i] - f1[i])**2 / pt1[i]\n",
        "chi2 += (pt1[12] + pt1[13] - f1[12] - f1[13])**2 / (pt1[12] + pt1[13])"
      ]
    },
    {
      "cell_type": "code",
      "execution_count": null,
      "id": "76b189d1",
      "metadata": {
        "id": "76b189d1",
        "outputId": "9345b493-b896-44b0-a637-d93c86c5d635"
      },
      "outputs": [
        {
          "data": {
            "text/plain": [
              "19.48510986499908"
            ]
          },
          "execution_count": 141,
          "metadata": {},
          "output_type": "execute_result"
        }
      ],
      "source": [
        "chi2"
      ]
    },
    {
      "cell_type": "code",
      "execution_count": null,
      "id": "2cee451b",
      "metadata": {
        "id": "2cee451b",
        "outputId": "0a05c2c3-4bdc-45b0-df33-8b3e3776751c"
      },
      "outputs": [
        {
          "data": {
            "text/plain": [
              "18.54934778670325"
            ]
          },
          "execution_count": 142,
          "metadata": {},
          "output_type": "execute_result"
        }
      ],
      "source": [
        "from scipy.stats import chi2\n",
        "quantile = chi2.ppf(1-alpha, df=12)\n",
        "quantile"
      ]
    },
    {
      "cell_type": "code",
      "execution_count": null,
      "id": "fa8fe558",
      "metadata": {
        "id": "fa8fe558"
      },
      "outputs": [],
      "source": []
    },
    {
      "cell_type": "code",
      "execution_count": null,
      "id": "0d75d30f",
      "metadata": {
        "id": "0d75d30f"
      },
      "outputs": [],
      "source": []
    },
    {
      "cell_type": "code",
      "execution_count": null,
      "id": "709b7b61",
      "metadata": {
        "id": "709b7b61"
      },
      "outputs": [],
      "source": []
    },
    {
      "cell_type": "code",
      "execution_count": null,
      "id": "45df8615",
      "metadata": {
        "id": "45df8615"
      },
      "outputs": [],
      "source": [
        "ilya = pd.read_csv('train.csv')"
      ]
    },
    {
      "cell_type": "code",
      "execution_count": null,
      "id": "1f719823",
      "metadata": {
        "id": "1f719823",
        "outputId": "24553f77-cc08-4c10-dccf-bdb7adcd8ec8"
      },
      "outputs": [
        {
          "data": {
            "text/plain": [
              "0        366425\n",
              "1        244602\n",
              "2        174201\n",
              "3        110199\n",
              "4        149248\n",
              "          ...  \n",
              "43952     68982\n",
              "43953    116562\n",
              "43954    197947\n",
              "43955     97883\n",
              "43956    375827\n",
              "Name: fnlwgt, Length: 43957, dtype: int64"
            ]
          },
          "execution_count": 26,
          "metadata": {},
          "output_type": "execute_result"
        }
      ],
      "source": [
        "ilya.fnlwgt"
      ]
    },
    {
      "cell_type": "code",
      "execution_count": null,
      "id": "87105840",
      "metadata": {
        "id": "87105840",
        "outputId": "79cfc094-0bd8-4750-8025-625737e65746"
      },
      "outputs": [
        {
          "data": {
            "text/plain": [
              "Index(['CustomerID', 'Gender', 'Age', 'Annual Income ($)',\n",
              "       'Spending Score (1-100)', 'Profession', 'Work Experience',\n",
              "       'Family Size'],\n",
              "      dtype='object')"
            ]
          },
          "execution_count": 9,
          "metadata": {},
          "output_type": "execute_result"
        }
      ],
      "source": [
        "ilya.columns"
      ]
    },
    {
      "cell_type": "code",
      "execution_count": null,
      "id": "8032f475",
      "metadata": {
        "id": "8032f475"
      },
      "outputs": [],
      "source": [
        "ilya = ilya.rename(columns={'Annual Income ($)': 'Income'})"
      ]
    },
    {
      "cell_type": "code",
      "execution_count": null,
      "id": "764bab0e",
      "metadata": {
        "id": "764bab0e"
      },
      "outputs": [],
      "source": [
        "ilya_2 = ilya.Income"
      ]
    },
    {
      "cell_type": "code",
      "execution_count": null,
      "id": "709452ec",
      "metadata": {
        "id": "709452ec",
        "outputId": "3ec274c4-7a7f-4e4d-c184-f4f6c23c4661"
      },
      "outputs": [
        {
          "data": {
            "text/plain": [
              "0        15000\n",
              "1        35000\n",
              "2        86000\n",
              "3        59000\n",
              "4        38000\n",
              "         ...  \n",
              "1995    184387\n",
              "1996     73158\n",
              "1997     90961\n",
              "1998    182109\n",
              "1999    110610\n",
              "Name: Income, Length: 2000, dtype: int64"
            ]
          },
          "execution_count": 14,
          "metadata": {},
          "output_type": "execute_result"
        }
      ],
      "source": [
        "ilya_2"
      ]
    },
    {
      "cell_type": "code",
      "execution_count": null,
      "id": "1f843d72",
      "metadata": {
        "id": "1f843d72",
        "outputId": "b1ef5102-0f20-4302-c5cd-620eac0e852c"
      },
      "outputs": [
        {
          "data": {
            "text/plain": [
              "(array([3132., 3051., 6036., 5979., 8597., 5856., 3455., 2416., 1960.,\n",
              "        1350.,  820.,  505.,  258.,  166.,  113.,   72.,   50.,   35.,\n",
              "          24.,   25.,   11.,   11.,    4.,    3.,    7.,    3.,    0.,\n",
              "           4.,    1.,    3.,    1.,    2.,    2.,    1.,    0.,    0.,\n",
              "           1.,    0.,    0.,    3.]),\n",
              " array([  13492. ,   50414.7,   87337.4,  124260.1,  161182.8,  198105.5,\n",
              "         235028.2,  271950.9,  308873.6,  345796.3,  382719. ,  419641.7,\n",
              "         456564.4,  493487.1,  530409.8,  567332.5,  604255.2,  641177.9,\n",
              "         678100.6,  715023.3,  751946. ,  788868.7,  825791.4,  862714.1,\n",
              "         899636.8,  936559.5,  973482.2, 1010404.9, 1047327.6, 1084250.3,\n",
              "        1121173. , 1158095.7, 1195018.4, 1231941.1, 1268863.8, 1305786.5,\n",
              "        1342709.2, 1379631.9, 1416554.6, 1453477.3, 1490400. ]),\n",
              " <BarContainer object of 40 artists>)"
            ]
          },
          "execution_count": 29,
          "metadata": {},
          "output_type": "execute_result"
        },
        {
          "data": {
            "image/png": "[encoded data removed]",
            "text/plain": [
              "<Figure size 432x288 with 1 Axes>"
            ]
          },
          "metadata": {
            "needs_background": "light"
          },
          "output_type": "display_data"
        }
      ],
      "source": [
        "plt.hist(ilya.fnlwgt, bins=40, edgecolor='black')"
      ]
    },
    {
      "cell_type": "code",
      "execution_count": null,
      "id": "4dfc465e",
      "metadata": {
        "id": "4dfc465e",
        "outputId": "40e4e23d-478c-4ed1-ee0f-677bfb500f9b"
      },
      "outputs": [
        {
          "data": {
            "text/plain": [
              "count    4.395700e+04\n",
              "mean     1.896730e+05\n",
              "std      1.058215e+05\n",
              "min      1.349200e+04\n",
              "25%      1.174960e+05\n",
              "50%      1.781000e+05\n",
              "75%      2.376710e+05\n",
              "max      1.490400e+06\n",
              "Name: fnlwgt, dtype: float64"
            ]
          },
          "execution_count": 32,
          "metadata": {},
          "output_type": "execute_result"
        }
      ],
      "source": [
        "ilya.fnlwgt.describe()"
      ]
    },
    {
      "cell_type": "code",
      "execution_count": null,
      "id": "79e441f7",
      "metadata": {
        "id": "79e441f7",
        "outputId": "9700534a-6b68-464a-ef72-c01348c2b64f"
      },
      "outputs": [
        {
          "data": {
            "text/plain": [
              "0    366425\n",
              "1    244602\n",
              "2    174201\n",
              "3    110199\n",
              "4    149248\n",
              "5    105363\n",
              "6    216390\n",
              "7    361888\n",
              "8     74784\n",
              "9    118089\n",
              "Name: fnlwgt, dtype: int64"
            ]
          },
          "execution_count": 34,
          "metadata": {},
          "output_type": "execute_result"
        }
      ],
      "source": [
        "ilya.fnlwgt[:10]"
      ]
    },
    {
      "cell_type": "code",
      "execution_count": null,
      "id": "b3360215",
      "metadata": {
        "id": "b3360215"
      },
      "outputs": [],
      "source": []
    }
  ],
  "metadata": {
    "kernelspec": {
      "display_name": "Python 3 (ipykernel)",
      "language": "python",
      "name": "python3"
    },
    "language_info": {
      "codemirror_mode": {
        "name": "ipython",
        "version": 3
      },
      "file_extension": ".py",
      "mimetype": "text/x-python",
      "name": "python",
      "nbconvert_exporter": "python",
      "pygments_lexer": "ipython3",
      "version": "3.9.7"
    },
    "colab": {
      "provenance": [],
      "include_colab_link": true
    }
  },
  "nbformat": 4,
  "nbformat_minor": 5
}