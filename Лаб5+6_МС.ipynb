{
  "cells": [
    {
      "cell_type": "markdown",
      "metadata": {
        "id": "view-in-github",
        "colab_type": "text"
      },
      "source": [
        "<a href=\"https://colab.research.google.com/github/yngdln/math-statistics/blob/main/%D0%9B%D0%B0%D0%B15%2B6_%D0%9C%D0%A1.ipynb\" target=\"_parent\"><img src=\"https://colab.research.google.com/assets/colab-badge.svg\" alt=\"Open In Colab\"/></a>"
      ]
    },
    {
      "cell_type": "code",
      "execution_count": null,
      "id": "c492140f",
      "metadata": {
        "id": "c492140f"
      },
      "outputs": [],
      "source": [
        "import numpy as np\n",
        "import matplotlib.pyplot as plt"
      ]
    },
    {
      "cell_type": "code",
      "execution_count": null,
      "id": "f27afc19",
      "metadata": {
        "id": "f27afc19"
      },
      "outputs": [],
      "source": [
        "X = np.array([-15.754,-5.357,-5.177,-7.58,-0.929,-13.199,-8.135,0.323,-8.631,-1.297,\n",
        "              -10.437,-3.874,-8.748,-8.036,-7.85,-11.149,-12.184,-7.747,-3.767,1.761,\n",
        "              -11.87,0.823,-1.097,-8.208,-12.289,-8.661,-2.067,-7.831,-4.29,-7.062,\n",
        "              -3.571,-12.35,-10.295,-8.066,-1.334,-2.598,-7.224,-5.336,-7.22,-7.747,\n",
        "              -6.725,-4.637,-5.206,-8.816,-11.586,-14.533,-10.135,-9.516,-5.503,-9.966,\n",
        "              -8.782,-10.151,-5.609,-5.025,-8.187,-7.44,-5.41,-9.567,-6.365,-9.776,\n",
        "              -12.632,-6.32,-7.54,-1.798,-9.049,-10.221,-2.571,-10.856,-5.774,-7.42,\n",
        "              -11.878,-2.76,-0.8,-7.944,-6.091,0.113,-3.328,-10.045,-7.386,-4.706,\n",
        "              -10.041,-9.209,-4.214,-9.859,-4.108,-3.329,2.647,-8.015,-8.397,-7.12,\n",
        "              -4.833,-5.303,-14.177,-4.619,-15.765,-8.972,-0.772,-17.609,-3.698,-1.299,\n",
        "              -1.904,-6.024,-7.803,-5.757,-0.452,-7.508,-3.84,-7.814,-5.63,-5.21,\n",
        "              -2.536,-7.717,-5.87,-4.508,-3.493,-10.479,-9.096,-1.598,-8.127,-6.348])"
      ]
    },
    {
      "cell_type": "code",
      "execution_count": null,
      "id": "5940c977",
      "metadata": {
        "id": "5940c977",
        "outputId": "4eb5a88c-f80a-4413-e99a-1b990bae5ed6"
      },
      "outputs": [
        {
          "data": {
            "text/plain": [
              "120"
            ]
          },
          "execution_count": 3,
          "metadata": {},
          "output_type": "execute_result"
        }
      ],
      "source": [
        "n = len(X)\n",
        "n"
      ]
    },
    {
      "cell_type": "code",
      "execution_count": null,
      "id": "96d1a016",
      "metadata": {
        "id": "96d1a016",
        "outputId": "67eee523-619e-4781-f753-028606f67c12"
      },
      "outputs": [
        {
          "data": {
            "text/plain": [
              "-808.4069999999998"
            ]
          },
          "execution_count": 43,
          "metadata": {},
          "output_type": "execute_result"
        }
      ],
      "source": [
        "sum((X))"
      ]
    },
    {
      "cell_type": "markdown",
      "id": "5bc79e67",
      "metadata": {
        "id": "5bc79e67"
      },
      "source": [
        "#### 1) Критерий S2 уровня alpha и проверить гипотезу a = a0 против H2: a > a0, если sigm неизвестно"
      ]
    },
    {
      "cell_type": "code",
      "execution_count": null,
      "id": "f8a458e3",
      "metadata": {
        "id": "f8a458e3"
      },
      "outputs": [],
      "source": [
        "alpha = 0.1\n",
        "a0 = -6.8"
      ]
    },
    {
      "cell_type": "code",
      "execution_count": null,
      "id": "15b6bf4f",
      "metadata": {
        "id": "15b6bf4f",
        "outputId": "77a6b19a-e773-48f2-e553-d0948d3e63b2"
      },
      "outputs": [
        {
          "data": {
            "text/plain": [
              "-6.736725000000001"
            ]
          },
          "execution_count": 30,
          "metadata": {},
          "output_type": "execute_result"
        }
      ],
      "source": [
        "mean_v = np.mean(X)\n",
        "mean_v"
      ]
    },
    {
      "cell_type": "code",
      "execution_count": null,
      "id": "404aecbb",
      "metadata": {
        "id": "404aecbb",
        "outputId": "ea80aeda-548c-4092-f93e-f9b5f6727594"
      },
      "outputs": [
        {
          "data": {
            "text/plain": [
              "3.8671079415116565"
            ]
          },
          "execution_count": 31,
          "metadata": {},
          "output_type": "execute_result"
        }
      ],
      "source": [
        "std_v = np.std(X, ddof=1)\n",
        "std_v"
      ]
    },
    {
      "cell_type": "code",
      "execution_count": null,
      "id": "6d866e82",
      "metadata": {
        "id": "6d866e82",
        "outputId": "624be96f-4c2d-4c96-873a-8a7623423701"
      },
      "outputs": [
        {
          "data": {
            "text/plain": [
              "3.8671079415116565"
            ]
          },
          "execution_count": 33,
          "metadata": {},
          "output_type": "execute_result"
        }
      ],
      "source": [
        "np.sqrt((1/(n-1)) * (np.sum((X - np.mean(X))**2)))"
      ]
    },
    {
      "cell_type": "code",
      "execution_count": null,
      "id": "aa676580",
      "metadata": {
        "id": "aa676580",
        "outputId": "917c04b9-0ec1-4d0f-e3cc-0f19f63e86bb"
      },
      "outputs": [
        {
          "data": {
            "text/plain": [
              "0.1792406384839176"
            ]
          },
          "execution_count": 7,
          "metadata": {},
          "output_type": "execute_result"
        }
      ],
      "source": [
        "(mean_v - a0) / std_v * np.sqrt(n)"
      ]
    },
    {
      "cell_type": "code",
      "execution_count": null,
      "id": "499de0c5",
      "metadata": {
        "id": "499de0c5"
      },
      "outputs": [],
      "source": [
        "from scipy import stats"
      ]
    },
    {
      "cell_type": "code",
      "execution_count": null,
      "id": "47ad00c2",
      "metadata": {
        "id": "47ad00c2",
        "outputId": "8366ed15-ed44-4375-ef77-05f643f9ab43"
      },
      "outputs": [
        {
          "data": {
            "text/plain": [
              "1.2887061912187294"
            ]
          },
          "execution_count": 37,
          "metadata": {},
          "output_type": "execute_result"
        }
      ],
      "source": [
        "t_1 = stats.t(df=n-1).ppf(0.9)\n",
        "t_1"
      ]
    },
    {
      "cell_type": "code",
      "execution_count": null,
      "id": "d2478438",
      "metadata": {
        "id": "d2478438",
        "outputId": "403aaa93-bcf8-4716-9127-580df4632ff6"
      },
      "outputs": [
        {
          "data": {
            "text/plain": [
              "-6.34506475239609"
            ]
          },
          "execution_count": 38,
          "metadata": {},
          "output_type": "execute_result"
        }
      ],
      "source": [
        "t_1 * std_v / np.sqrt(n) + a0"
      ]
    },
    {
      "cell_type": "markdown",
      "id": "929608c4",
      "metadata": {
        "id": "929608c4"
      },
      "source": [
        "#### 2) Критерий S3 уровня alpha и гипотеза sigm = sigm0 при неизвестном a против альтернативы sigm > sigm0"
      ]
    },
    {
      "cell_type": "code",
      "execution_count": null,
      "id": "2df29c34",
      "metadata": {
        "id": "2df29c34"
      },
      "outputs": [],
      "source": [
        "sigm0 = 3.2"
      ]
    },
    {
      "cell_type": "code",
      "execution_count": null,
      "id": "6f31cd4b",
      "metadata": {
        "id": "6f31cd4b"
      },
      "outputs": [],
      "source": [
        "x_1 = 139.149464377303 # квантиль хи квадрат"
      ]
    },
    {
      "cell_type": "code",
      "execution_count": null,
      "id": "bc2908dd",
      "metadata": {
        "id": "bc2908dd",
        "outputId": "52d4f0db-ebf3-4a6e-d594-c6e2e56c2028"
      },
      "outputs": [
        {
          "data": {
            "text/plain": [
              "173.78792343017577"
            ]
          },
          "execution_count": 42,
          "metadata": {},
          "output_type": "execute_result"
        }
      ],
      "source": [
        "(n-1)*std_v**2 / sigm0**2"
      ]
    },
    {
      "cell_type": "markdown",
      "id": "a7a83f8d",
      "metadata": {
        "id": "a7a83f8d"
      },
      "source": [
        "#### 3) Критерий оптимальный критерий S1 уровня альфа и проверить H0 против простой альтернативы H1: a=a1, если sigma известна"
      ]
    },
    {
      "cell_type": "code",
      "execution_count": null,
      "id": "2986d0bb",
      "metadata": {
        "id": "2986d0bb",
        "outputId": "c6264c9a-7b91-49ce-d060-1d011e2cbf22"
      },
      "outputs": [
        {
          "data": {
            "text/plain": [
              "-6.736724999999998"
            ]
          },
          "execution_count": 44,
          "metadata": {},
          "output_type": "execute_result"
        }
      ],
      "source": [
        "sum(X)/n"
      ]
    },
    {
      "cell_type": "code",
      "execution_count": null,
      "id": "cc9f3893",
      "metadata": {
        "id": "cc9f3893"
      },
      "outputs": [],
      "source": []
    },
    {
      "cell_type": "code",
      "execution_count": null,
      "id": "4d75ae3c",
      "metadata": {
        "id": "4d75ae3c"
      },
      "outputs": [],
      "source": []
    },
    {
      "cell_type": "code",
      "execution_count": null,
      "id": "e4bdfa4e",
      "metadata": {
        "id": "e4bdfa4e"
      },
      "outputs": [],
      "source": [
        "import math\n",
        "from scipy.stats import norm"
      ]
    },
    {
      "cell_type": "code",
      "execution_count": null,
      "id": "f8036fae",
      "metadata": {
        "id": "f8036fae"
      },
      "outputs": [],
      "source": [
        "l = math.trunc(1 + np.log2(n))"
      ]
    },
    {
      "cell_type": "code",
      "execution_count": null,
      "id": "5e8abec5",
      "metadata": {
        "id": "5e8abec5"
      },
      "outputs": [],
      "source": [
        "x = np.linspace(min(X), max(X), 1000)\n",
        "y1 = norm.pdf(x, -6.8, 3.4)\n",
        "y2 = norm.pdf(x, -6.2, 3.4)"
      ]
    },
    {
      "cell_type": "code",
      "execution_count": null,
      "id": "6586ea47",
      "metadata": {
        "id": "6586ea47",
        "outputId": "f76c7466-340e-4f0f-b6f3-cf92b5fefa53"
      },
      "outputs": [
        {
          "data": {
            "image/png": "[encoded data removed]",
            "text/plain": [
              "<Figure size 432x576 with 1 Axes>"
            ]
          },
          "metadata": {
            "needs_background": "light"
          },
          "output_type": "display_data"
        }
      ],
      "source": [
        "plt.figure(figsize=(6,8))\n",
        "plt.hist(X, bins=l, edgecolor='black', density=True, color='red')\n",
        "plt.plot(x, y1, color='blue')\n",
        "plt.plot(x, y2, color='green')\n",
        "plt.legend(['H0', 'H1', 'Отн. частоты'])\n",
        "plt.show()"
      ]
    },
    {
      "cell_type": "code",
      "execution_count": null,
      "id": "5490be7f",
      "metadata": {
        "id": "5490be7f"
      },
      "outputs": [],
      "source": []
    },
    {
      "cell_type": "code",
      "execution_count": null,
      "id": "dc127c08",
      "metadata": {
        "id": "dc127c08"
      },
      "outputs": [],
      "source": []
    },
    {
      "cell_type": "code",
      "execution_count": null,
      "id": "33f5cb2d",
      "metadata": {
        "id": "33f5cb2d"
      },
      "outputs": [],
      "source": []
    },
    {
      "cell_type": "markdown",
      "id": "ae383e73",
      "metadata": {
        "id": "ae383e73"
      },
      "source": [
        "## Критерий Вальда"
      ]
    },
    {
      "cell_type": "code",
      "execution_count": null,
      "id": "ac8824f4",
      "metadata": {
        "id": "ac8824f4",
        "outputId": "f3c2edde-5bf4-4a8c-c13b-646560a9e390"
      },
      "outputs": [
        {
          "data": {
            "text/plain": [
              "74.38983851992346"
            ]
          },
          "execution_count": 46,
          "metadata": {},
          "output_type": "execute_result"
        }
      ],
      "source": [
        "((1-0.26)*np.log(7.4) + 0.26*np.log(13/45)) / 0.01557"
      ]
    },
    {
      "cell_type": "code",
      "execution_count": null,
      "id": "1105fefb",
      "metadata": {
        "id": "1105fefb"
      },
      "outputs": [],
      "source": [
        "alpha = 0.1\n",
        "beta = 0.26\n",
        "A = (1-beta)/alpha\n",
        "B = beta/(1-alpha)"
      ]
    },
    {
      "cell_type": "code",
      "execution_count": null,
      "id": "1492e079",
      "metadata": {
        "id": "1492e079"
      },
      "outputs": [],
      "source": [
        "a0 = -6.8\n",
        "a1 = -6.2\n",
        "sigma1 = 3.4"
      ]
    },
    {
      "cell_type": "code",
      "execution_count": null,
      "id": "2ecba1d2",
      "metadata": {
        "id": "2ecba1d2"
      },
      "outputs": [],
      "source": [
        "def f(X, n, a0, a1, sigma1):\n",
        "    z = 1\n",
        "    for i in range(n):\n",
        "        z *= np.exp( X[i] * (a1 - a0) / (sigma1**2) + (a0**2 - a1**2)/(2 * sigma1**2))\n",
        "    return z"
      ]
    },
    {
      "cell_type": "code",
      "execution_count": null,
      "id": "2f0a75e1",
      "metadata": {
        "id": "2f0a75e1"
      },
      "outputs": [],
      "source": [
        "Z = []\n",
        "for i in range(n):\n",
        "    Z.append(f(X, i, a0, a1, sigma1))"
      ]
    },
    {
      "cell_type": "code",
      "execution_count": null,
      "id": "cef90c15",
      "metadata": {
        "id": "cef90c15"
      },
      "outputs": [],
      "source": [
        "x = np.arange(1, 121)"
      ]
    },
    {
      "cell_type": "code",
      "execution_count": null,
      "id": "e243c34c",
      "metadata": {
        "id": "e243c34c",
        "outputId": "4c454a0c-5648-430e-80d7-8bcb098a940f"
      },
      "outputs": [
        {
          "data": {
            "image/png": "[encoded data removed]",
            "text/plain": [
              "<Figure size 432x576 with 1 Axes>"
            ]
          },
          "metadata": {
            "needs_background": "light"
          },
          "output_type": "display_data"
        }
      ],
      "source": [
        "plt.figure(figsize=(6,8))\n",
        "plt.plot(x, Z,color = \"r\")\n",
        "plt.axhline(y=B,color=\"g\",linestyle = \"--\",label='B')\n",
        "plt.axhline(y=A,color=\"b\",linestyle = \"--\",label='A')\n",
        "plt.show()"
      ]
    },
    {
      "cell_type": "code",
      "execution_count": null,
      "id": "396d5aa1",
      "metadata": {
        "id": "396d5aa1"
      },
      "outputs": [],
      "source": []
    }
  ],
  "metadata": {
    "kernelspec": {
      "display_name": "Python 3 (ipykernel)",
      "language": "python",
      "name": "python3"
    },
    "language_info": {
      "codemirror_mode": {
        "name": "ipython",
        "version": 3
      },
      "file_extension": ".py",
      "mimetype": "text/x-python",
      "name": "python",
      "nbconvert_exporter": "python",
      "pygments_lexer": "ipython3",
      "version": "3.9.7"
    },
    "colab": {
      "provenance": [],
      "include_colab_link": true
    }
  },
  "nbformat": 4,
  "nbformat_minor": 5
}