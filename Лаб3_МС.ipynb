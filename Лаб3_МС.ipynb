{
  "nbformat": 4,
  "nbformat_minor": 0,
  "metadata": {
    "colab": {
      "provenance": [],
      "authorship_tag": "ABX9TyOZsPsODoau7+Zj06uWodW3",
      "include_colab_link": true
    },
    "kernelspec": {
      "name": "python3",
      "display_name": "Python 3"
    },
    "language_info": {
      "name": "python"
    }
  },
  "cells": [
    {
      "cell_type": "markdown",
      "metadata": {
        "id": "view-in-github",
        "colab_type": "text"
      },
      "source": [
        "<a href=\"https://colab.research.google.com/github/yngdln/math-statistics/blob/main/%D0%9B%D0%B0%D0%B13_%D0%9C%D0%A1.ipynb\" target=\"_parent\"><img src=\"https://colab.research.google.com/assets/colab-badge.svg\" alt=\"Open In Colab\"/></a>"
      ]
    },
    {
      "cell_type": "code",
      "execution_count": null,
      "metadata": {
        "id": "7D4u_I8HhfVj"
      },
      "outputs": [],
      "source": [
        "import math\n",
        "import scipy.special as sc\n",
        "import mpmath\n",
        "import numpy as np\n",
        "import matplotlib.pyplot as plt"
      ]
    },
    {
      "cell_type": "code",
      "source": [
        "k=100\n",
        "n=2.5\n",
        "data = np.random.rand(k)\n",
        "data"
      ],
      "metadata": {
        "colab": {
          "base_uri": "https://localhost:8080/"
        },
        "id": "UeDEjpHSczCX",
        "outputId": "1b59b3fc-e03c-4960-e30c-555fe795c4d5"
      },
      "execution_count": null,
      "outputs": [
        {
          "output_type": "execute_result",
          "data": {
            "text/plain": [
              "array([0.32634737, 0.82343227, 0.29562034, 0.30881489, 0.10699496,\n",
              "       0.08152774, 0.19067877, 0.50874149, 0.24116403, 0.41296726,\n",
              "       0.40585629, 0.65963616, 0.67585524, 0.60087139, 0.65515338,\n",
              "       0.92205992, 0.92045858, 0.65959   , 0.68523747, 0.16564001,\n",
              "       0.21577561, 0.57685711, 0.48804786, 0.91647267, 0.02085063,\n",
              "       0.73615773, 0.40287538, 0.17671088, 0.53693481, 0.75022799,\n",
              "       0.39262102, 0.85711519, 0.3484556 , 0.07877774, 0.47182652,\n",
              "       0.69946748, 0.0477746 , 0.00587693, 0.19698245, 0.650405  ,\n",
              "       0.88521446, 0.32343414, 0.70170085, 0.09881682, 0.65727398,\n",
              "       0.79428169, 0.06809955, 0.76445511, 0.37220218, 0.58197076,\n",
              "       0.26401488, 0.36355268, 0.58471149, 0.7813651 , 0.99206485,\n",
              "       0.90829473, 0.89946594, 0.19247886, 0.04149452, 0.99510796,\n",
              "       0.08186046, 0.94879842, 0.5684234 , 0.79648931, 0.41167125,\n",
              "       0.63078275, 0.2209591 , 0.17454331, 0.20573049, 0.32820119,\n",
              "       0.88359363, 0.07397637, 0.01123176, 0.69419921, 0.7800086 ,\n",
              "       0.29124151, 0.52985817, 0.18064544, 0.04853087, 0.4456954 ,\n",
              "       0.97906499, 0.99129011, 0.04434363, 0.93663468, 0.3597834 ,\n",
              "       0.79052659, 0.51348322, 0.82454362, 0.33818725, 0.82429306,\n",
              "       0.07856213, 0.10085102, 0.06158893, 0.52526315, 0.28800011,\n",
              "       0.68619033, 0.77407551, 0.24688343, 0.26927812, 0.73440428])"
            ]
          },
          "metadata": {},
          "execution_count": 21
        }
      ]
    },
    {
      "cell_type": "code",
      "source": [
        "def F_x(x):\n",
        "  return(float(math.gamma(n/2)-mpmath.gammainc(n/2,x/2))/math.gamma(n/2))\n",
        "def F_inv(n,y):\n",
        "  return(2*sc.gammaincinv(n/2, y*math.gamma(n/2)))"
      ],
      "metadata": {
        "id": "zffls_Gq95Ou"
      },
      "execution_count": null,
      "outputs": []
    },
    {
      "cell_type": "code",
      "source": [
        "X=F_inv(n,data)\n",
        "X\n"
      ],
      "metadata": {
        "colab": {
          "base_uri": "https://localhost:8080/"
        },
        "id": "F95unnYqdEcy",
        "outputId": "24c83fa0-ec07-467c-e22c-a271095bd95f"
      },
      "execution_count": null,
      "outputs": [
        {
          "output_type": "execute_result",
          "data": {
            "text/plain": [
              "array([1.04292756, 3.41793542, 0.94408843, 0.9862351 , 0.37075685,\n",
              "       0.29331863, 0.62112557, 1.69683413, 0.77419497, 1.33682563,\n",
              "       1.311711  , 2.37947279, 2.46475281, 2.09235784, 2.35640134,\n",
              "       4.37379936, 4.35460769, 2.37923411, 2.51543943, 0.54616784,\n",
              "       0.69680606, 1.98356009, 1.6152511 , 4.30753369, 0.09432816,\n",
              "       2.81022581, 1.30124091, 0.57926168, 1.81191195, 2.89835895,\n",
              "       1.26547819, 3.70190064, 1.1156346 , 0.28485056, 1.55287092,\n",
              "       2.59433729, 0.18687413, 0.03379479, 0.64007179, 2.33218948,\n",
              "       3.96876085, 1.03345046, 2.60695094, 0.34604881, 2.36728926,\n",
              "       3.19723963, 0.25169139, 2.99086749, 1.19539104, 2.00635702,\n",
              "       0.84475973, 1.1661306 , 2.01865608, 3.10566898, 5.43095703,\n",
              "       4.21391167, 4.11699432, 0.62653215, 0.16619283, 5.49062147,\n",
              "       0.29434143, 4.72108228, 1.9463813 , 3.21324994, 1.33223368,\n",
              "       2.23450184, 0.71253047, 0.5727772 , 0.66643081, 1.04897044,\n",
              "       3.95249544, 0.26999934, 0.05703265, 2.56483481, 3.0962536 ,\n",
              "       0.93019419, 1.78257794, 0.59103976, 0.18933935, 1.45506607,\n",
              "       5.19282541, 5.41602181, 0.17562416, 4.55641904, 1.15345588,\n",
              "       3.17025255, 1.71586148, 3.42677343, 1.08168861, 3.42477793,\n",
              "       0.28418553, 0.35220612, 0.23121257, 1.7636953 , 0.91993779,\n",
              "       2.52064515, 3.0555031 , 0.79176882, 0.86115315, 2.79946338])"
            ]
          },
          "metadata": {},
          "execution_count": 23
        }
      ]
    },
    {
      "cell_type": "code",
      "source": [
        "print(min(X))\n",
        "print(max(X))\n",
        "print(max(X) - min(X))"
      ],
      "metadata": {
        "colab": {
          "base_uri": "https://localhost:8080/"
        },
        "id": "pgryDL_hfBSl",
        "outputId": "7aacd7e4-b766-4664-cc2d-33dc5a002603"
      },
      "execution_count": null,
      "outputs": [
        {
          "output_type": "stream",
          "name": "stdout",
          "text": [
            "0.0337947937032393\n",
            "5.490621473305929\n",
            "5.456826679602689\n"
          ]
        }
      ]
    },
    {
      "cell_type": "code",
      "source": [
        "n_bins = int(1 + np.log(len(X))/np.log(2))\n",
        "n_bins\n",
        "inter=(max(X) - min(X))/n_bins\n",
        "intervals= np.random.rand(n_bins+1)\n",
        "intervals[0]=min(X)\n",
        "for i in range (n_bins):\n",
        "  intervals[i+1]=intervals[i]+inter\n",
        "intervals"
      ],
      "metadata": {
        "colab": {
          "base_uri": "https://localhost:8080/"
        },
        "id": "tHPeXBP9fEQ9",
        "outputId": "104304b7-62c0-42cb-94ba-060186b528af"
      },
      "execution_count": null,
      "outputs": [
        {
          "output_type": "execute_result",
          "data": {
            "text/plain": [
              "array([0.03379479, 0.81334146, 1.59288813, 2.3724348 , 3.15198147,\n",
              "       3.93152814, 4.7110748 , 5.49062147])"
            ]
          },
          "metadata": {},
          "execution_count": 25
        }
      ]
    },
    {
      "cell_type": "code",
      "source": [
        "plt.hist(X, bins = n_bins)"
      ],
      "metadata": {
        "colab": {
          "base_uri": "https://localhost:8080/",
          "height": 499
        },
        "id": "LTP0I0mSfJQe",
        "outputId": "15c6c3e3-14d6-4f4f-84b6-db3c55ee8dda"
      },
      "execution_count": null,
      "outputs": [
        {
          "output_type": "execute_result",
          "data": {
            "text/plain": [
              "(array([29., 21., 15., 15.,  7.,  8.,  5.]),\n",
              " array([0.03379479, 0.81334146, 1.59288813, 2.3724348 , 3.15198147,\n",
              "        3.93152814, 4.7110748 , 5.49062147]),\n",
              " <BarContainer object of 7 artists>)"
            ]
          },
          "metadata": {},
          "execution_count": 26
        },
        {
          "output_type": "display_data",
          "data": {
            "text/plain": [
              "<Figure size 640x480 with 1 Axes>"
            ],
            "image/png": "[encoded data removed]"
          },
          "metadata": {}
        }
      ]
    },
    {
      "cell_type": "code",
      "source": [
        "counts=np.zeros(n_bins+1)\n",
        "for i in range (n_bins):\n",
        "  for j in range(k):\n",
        "    if(intervals[i]<=X[j]<=intervals[i+1]):\n",
        "      counts[i]= counts[i]+1\n",
        "counts[0]= counts[0]+1\n",
        "counts"
      ],
      "metadata": {
        "colab": {
          "base_uri": "https://localhost:8080/"
        },
        "id": "5XYP6gfvguJe",
        "outputId": "32c27e16-91cd-4064-c0a3-de4ad895ba95"
      },
      "execution_count": null,
      "outputs": [
        {
          "output_type": "execute_result",
          "data": {
            "text/plain": [
              "array([30., 21., 15., 15.,  7.,  8.,  5.,  0.])"
            ]
          },
          "metadata": {},
          "execution_count": 27
        }
      ]
    },
    {
      "cell_type": "code",
      "source": [
        "properties = counts / len(X)\n",
        "properties"
      ],
      "metadata": {
        "colab": {
          "base_uri": "https://localhost:8080/"
        },
        "id": "N_Egg13TmCHt",
        "outputId": "6911010b-fe2f-41fc-a733-5cacabfca341"
      },
      "execution_count": null,
      "outputs": [
        {
          "output_type": "execute_result",
          "data": {
            "text/plain": [
              "array([0.3 , 0.21, 0.15, 0.15, 0.07, 0.08, 0.05, 0.  ])"
            ]
          },
          "metadata": {},
          "execution_count": 28
        }
      ]
    },
    {
      "cell_type": "code",
      "source": [
        "def p(x):\n",
        "  if(x>=min(X)):\n",
        "    return((x**(n/2-1))/(2**(n/2)*math.gamma(n/2))*math.exp(-x/2))\n",
        "  else:\n",
        "    return 0"
      ],
      "metadata": {
        "id": "_7aF0WbPvUcg"
      },
      "execution_count": null,
      "outputs": []
    },
    {
      "cell_type": "code",
      "source": [
        "x_new = np.linspace(min(X), max(X), 1000)\n",
        "y_new = list(map(p, x_new))\n",
        "plt.plot(x_new, y_new, \"r\")\n",
        "plt.hist(X, bins = n_bins, density = True)\n",
        "plt.legend()\n",
        "plt.show()"
      ],
      "metadata": {
        "colab": {
          "base_uri": "https://localhost:8080/",
          "height": 447
        },
        "id": "xD2xqCoDuGD8",
        "outputId": "34a687d1-f912-4eaa-8300-f724cf01f675"
      },
      "execution_count": null,
      "outputs": [
        {
          "output_type": "stream",
          "name": "stderr",
          "text": [
            "WARNING:matplotlib.legend:No artists with labels found to put in legend.  Note that artists whose label start with an underscore are ignored when legend() is called with no argument.\n"
          ]
        },
        {
          "output_type": "display_data",
          "data": {
            "text/plain": [
              "<Figure size 640x480 with 1 Axes>"
            ],
            "image/png": "[encoded data removed]"
          },
          "metadata": {}
        }
      ]
    },
    {
      "cell_type": "code",
      "source": [
        "m_teor=n\n",
        "m_teor"
      ],
      "metadata": {
        "colab": {
          "base_uri": "https://localhost:8080/"
        },
        "id": "FNuZcwpL11hk",
        "outputId": "42ec3e64-2930-4263-9c82-167a0be5025d"
      },
      "execution_count": null,
      "outputs": [
        {
          "output_type": "execute_result",
          "data": {
            "text/plain": [
              "2.5"
            ]
          },
          "metadata": {},
          "execution_count": 31
        }
      ]
    },
    {
      "cell_type": "code",
      "source": [
        "d_teor=2*n\n",
        "d_teor"
      ],
      "metadata": {
        "colab": {
          "base_uri": "https://localhost:8080/"
        },
        "id": "wljgsKi_2zVu",
        "outputId": "927b3891-a143-48ab-fc4c-8d7571d1a828"
      },
      "execution_count": null,
      "outputs": [
        {
          "output_type": "execute_result",
          "data": {
            "text/plain": [
              "5.0"
            ]
          },
          "metadata": {},
          "execution_count": 32
        }
      ]
    },
    {
      "cell_type": "code",
      "source": [
        "m_emp=np.mean(X)\n",
        "m_emp"
      ],
      "metadata": {
        "colab": {
          "base_uri": "https://localhost:8080/"
        },
        "id": "RpL6rSwZ3ats",
        "outputId": "f53f80d6-ccb2-4766-8aa1-277b5ba05e20"
      },
      "execution_count": null,
      "outputs": [
        {
          "output_type": "execute_result",
          "data": {
            "text/plain": [
              "1.8973394281642157"
            ]
          },
          "metadata": {},
          "execution_count": 33
        }
      ]
    },
    {
      "cell_type": "code",
      "source": [
        "(1/(k-1)) * (np.sum((X - np.mean(X))**2))"
      ],
      "metadata": {
        "colab": {
          "base_uri": "https://localhost:8080/"
        },
        "id": "B-UzO4jo5wme",
        "outputId": "33817b00-b7ff-4a90-82cb-867a821c0c36"
      },
      "execution_count": null,
      "outputs": [
        {
          "output_type": "execute_result",
          "data": {
            "text/plain": [
              "2.0903826297185852"
            ]
          },
          "metadata": {},
          "execution_count": 34
        }
      ]
    },
    {
      "cell_type": "code",
      "source": [
        "gamma = 0.1\n",
        "\n",
        "eps = np.sqrt((-1/(2 * k)) * np.log(gamma / 2))\n",
        "eps\n",
        "def teorF(x):\n",
        "  if x >= min(X):\n",
        "    return (float(math.gamma(n/2)-mpmath.gammainc(n/2,x/2)/math.gamma(n/2)))\n",
        "  else:\n",
        "    return 0\n",
        "\n",
        "def emperF(x):\n",
        "  def ind(k):\n",
        "    if k > 0:\n",
        "      return 1\n",
        "    else:\n",
        "      return 0\n",
        "  sum = 0\n",
        "  for i in range(len(X)):\n",
        "    sum += ind(x - X[i]) / len(X)\n",
        "  return sum\n",
        "def remperF(x):\n",
        "  if emperF(x) + eps < 1:\n",
        "    return emperF(x) + eps\n",
        "  else:\n",
        "    return 1\n",
        "\n",
        "def lemperF(x):\n",
        "  if emperF(x) - eps > 0:\n",
        "    return emperF(x) - eps\n",
        "  else:\n",
        "    return 0"
      ],
      "metadata": {
        "id": "KOEUdg5X7mXk"
      },
      "execution_count": null,
      "outputs": []
    },
    {
      "cell_type": "code",
      "source": [
        "x_new = np.linspace(min(X), max(X), 100)\n",
        "plt.plot(x_new, list(map(F_x, x_new)))\n",
        "plt.plot(x_new, list(map(emperF, x_new)), 'r')\n",
        "plt.plot(x_new, list(map(remperF, x_new)), 'y')\n",
        "plt.plot(x_new, list(map(lemperF, x_new)), 'g')\n",
        "plt.legend(['teor', 'emper', 'right', 'left'])\n",
        "plt.show()"
      ],
      "metadata": {
        "colab": {
          "base_uri": "https://localhost:8080/",
          "height": 430
        },
        "id": "kYOR0rwg9sTX",
        "outputId": "a564e513-e7fa-4ec5-fa10-53b6ef616cfb"
      },
      "execution_count": null,
      "outputs": [
        {
          "output_type": "display_data",
          "data": {
            "text/plain": [
              "<Figure size 640x480 with 1 Axes>"
            ],
            "image/png": "[encoded data removed]"
          },
          "metadata": {}
        }
      ]
    },
    {
      "cell_type": "code",
      "source": [
        "F_x(12)"
      ],
      "metadata": {
        "colab": {
          "base_uri": "https://localhost:8080/"
        },
        "id": "_OQIiCbjA3GT",
        "outputId": "69849a5e-60c8-4bbc-854b-8975208d2775"
      },
      "execution_count": null,
      "outputs": [
        {
          "output_type": "execute_result",
          "data": {
            "text/plain": [
              "0.995559294868786"
            ]
          },
          "metadata": {},
          "execution_count": 20
        }
      ]
    }
  ]
}