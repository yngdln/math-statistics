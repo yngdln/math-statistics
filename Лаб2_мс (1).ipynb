{
  "nbformat": 4,
  "nbformat_minor": 0,
  "metadata": {
    "colab": {
      "provenance": []
    },
    "kernelspec": {
      "name": "python3",
      "display_name": "Python 3"
    },
    "language_info": {
      "name": "python"
    }
  },
  "cells": [
    {
      "cell_type": "code",
      "execution_count": null,
      "metadata": {
        "id": "DDKpRKZntZGK"
      },
      "outputs": [],
      "source": [
        "import math\n",
        "import numpy as np\n",
        "import matplotlib.pyplot as plt\n",
        "import pandas as pd"
      ]
    },
    {
      "cell_type": "code",
      "source": [
        "k = 12\n",
        "p = 1/2\n",
        "q=1-p\n",
        "n = 150"
      ],
      "metadata": {
        "id": "YDT5GVXttmM_"
      },
      "execution_count": null,
      "outputs": []
    },
    {
      "cell_type": "code",
      "source": [
        "x = []\n",
        "p_values = []\n",
        "for i in range(k+1):\n",
        "  x.append(i)\n",
        "  val = math.comb(k, i) * p ** (i) * q ** (k-i)\n",
        "  p_values.append(val)"
      ],
      "metadata": {
        "id": "OMjmy2xztpd8"
      },
      "execution_count": null,
      "outputs": []
    },
    {
      "cell_type": "code",
      "source": [
        "print(x)\n",
        "print(p_values)\n",
        "print(len(p_values))"
      ],
      "metadata": {
        "colab": {
          "base_uri": "https://localhost:8080/"
        },
        "id": "QFLC3WNhtr2d",
        "outputId": "39a99ba0-6398-48bf-de51-79e3b0cfe4b0"
      },
      "execution_count": null,
      "outputs": [
        {
          "output_type": "stream",
          "name": "stdout",
          "text": [
            "[0, 1, 2, 3, 4, 5, 6, 7, 8, 9, 10, 11, 12]\n",
            "[0.000244140625, 0.0029296875, 0.01611328125, 0.0537109375, 0.120849609375, 0.193359375, 0.2255859375, 0.193359375, 0.120849609375, 0.0537109375, 0.01611328125, 0.0029296875, 0.000244140625]\n",
            "13\n"
          ]
        }
      ]
    },
    {
      "cell_type": "code",
      "source": [
        "teor = np.cumsum(p_values)"
      ],
      "metadata": {
        "id": "ricmzMWStt0o"
      },
      "execution_count": null,
      "outputs": []
    },
    {
      "cell_type": "code",
      "source": [
        "print(teor)"
      ],
      "metadata": {
        "colab": {
          "base_uri": "https://localhost:8080/"
        },
        "id": "Fpe-D5SutwkA",
        "outputId": "428bcedc-2f63-4420-a1b2-3d29ad0a263f"
      },
      "execution_count": null,
      "outputs": [
        {
          "output_type": "stream",
          "name": "stdout",
          "text": [
            "[2.44140625e-04 3.17382812e-03 1.92871094e-02 7.29980469e-02\n",
            " 1.93847656e-01 3.87207031e-01 6.12792969e-01 8.06152344e-01\n",
            " 9.27001953e-01 9.80712891e-01 9.96826172e-01 9.99755859e-01\n",
            " 1.00000000e+00]\n"
          ]
        }
      ]
    },
    {
      "cell_type": "code",
      "source": [
        "points = np.random.rand(n)"
      ],
      "metadata": {
        "id": "8TWUlt0_tyws"
      },
      "execution_count": null,
      "outputs": []
    },
    {
      "cell_type": "code",
      "source": [
        "points"
      ],
      "metadata": {
        "colab": {
          "base_uri": "https://localhost:8080/"
        },
        "id": "lxfw3v-0t0vS",
        "outputId": "5d60c081-4dbc-40b3-8e72-866f5046b7a8"
      },
      "execution_count": null,
      "outputs": [
        {
          "output_type": "execute_result",
          "data": {
            "text/plain": [
              "array([0.114236  , 0.9480901 , 0.58653324, 0.84143686, 0.5208805 ,\n",
              "       0.587056  , 0.80613422, 0.36763237, 0.71681524, 0.65091753,\n",
              "       0.83283337, 0.43989539, 0.53645143, 0.98435436, 0.58033866,\n",
              "       0.31904557, 0.42421993, 0.68309437, 0.34445069, 0.91341935,\n",
              "       0.44393672, 0.63073829, 0.56107295, 0.98885692, 0.60145795,\n",
              "       0.93893006, 0.70639314, 0.53640236, 0.91384895, 0.67766711,\n",
              "       0.84666336, 0.65536141, 0.30010471, 0.83704803, 0.89975554,\n",
              "       0.27047923, 0.10027254, 0.47754684, 0.07564818, 0.77671103,\n",
              "       0.71637782, 0.84739236, 0.01649596, 0.75670977, 0.44007864,\n",
              "       0.15484736, 0.19819114, 0.74312407, 0.0066622 , 0.39456334,\n",
              "       0.38976436, 0.37943564, 0.31165197, 0.44259154, 0.96584351,\n",
              "       0.00771935, 0.08323512, 0.65097536, 0.21795664, 0.74323782,\n",
              "       0.71906987, 0.62537763, 0.24165933, 0.41029795, 0.52479327,\n",
              "       0.01442174, 0.96354359, 0.70893952, 0.53091647, 0.71902916,\n",
              "       0.56535455, 0.47207913, 0.94165936, 0.50381258, 0.25760278,\n",
              "       0.27306056, 0.90188254, 0.60683375, 0.17137726, 0.7938016 ,\n",
              "       0.93533266, 0.13119607, 0.76776802, 0.42576607, 0.42810006,\n",
              "       0.69503776, 0.54886136, 0.03678451, 0.62204259, 0.80803035,\n",
              "       0.24563312, 0.1056195 , 0.12554878, 0.42924871, 0.20626468,\n",
              "       0.06256178, 0.37033984, 0.04104343, 0.89741896, 0.47640251,\n",
              "       0.50153057, 0.84096204, 0.50886919, 0.97635361, 0.16878869,\n",
              "       0.71837172, 0.50758307, 0.04494827, 0.4052616 , 0.1538609 ,\n",
              "       0.3730933 , 0.43786304, 0.43302974, 0.32167354, 0.78742768,\n",
              "       0.27572952, 0.76966542, 0.22447737, 0.22898812, 0.95833613,\n",
              "       0.51305552, 0.12451239, 0.07936407, 0.29303939, 0.73523933,\n",
              "       0.26537601, 0.62322728, 0.94745799, 0.16888412, 0.13119001,\n",
              "       0.14681679, 0.05093852, 0.80632661, 0.57793055, 0.12993612,\n",
              "       0.6554754 , 0.22780826, 0.60562292, 0.56291743, 0.1758986 ,\n",
              "       0.59890672, 0.10520563, 0.40001273, 0.14562367, 0.96009077,\n",
              "       0.91073334, 0.15425934, 0.61807888, 0.5091582 , 0.72020687])"
            ]
          },
          "metadata": {},
          "execution_count": 8
        }
      ]
    },
    {
      "cell_type": "code",
      "source": [
        "data = np.arange(n)\n",
        "for i in range(n):\n",
        "    data[i]=0\n",
        "for j in range (k+1):\n",
        "  for i in range(n):\n",
        "    if(j==0):\n",
        "      if(points[i]<teor[j]):\n",
        "        data[i]=j\n",
        "    elif(teor[j-1]<points[i]<teor[j]):\n",
        "        data[i]=j\n",
        "print(data)"
      ],
      "metadata": {
        "colab": {
          "base_uri": "https://localhost:8080/"
        },
        "id": "EO_FYGTnt2oQ",
        "outputId": "9e6f928f-6142-48ba-8caf-4b798cebed09"
      },
      "execution_count": null,
      "outputs": [
        {
          "output_type": "stream",
          "name": "stdout",
          "text": [
            "[ 4  9  6  8  6  6  7  5  7  7  8  6  6 10  6  5  6  7  5  8  6  7  6 10\n",
            "  6  9  7  6  8  7  8  7  5  8  8  5  4  6  4  7  7  8  2  7  6  4  5  7\n",
            "  2  6  6  5  5  6  9  2  4  7  5  7  7  7  5  6  6  2  9  7  6  7  6  6\n",
            "  9  6  5  5  8  6  4  7  9  4  7  6  6  7  6  3  7  8  5  4  4  6  5  3\n",
            "  5  3  8  6  6  8  6  9  4  7  6  3  6  4  5  6  6  5  7  5  7  5  5  9\n",
            "  6  4  4  5  7  5  7  9  4  4  4  3  8  6  4  7  5  6  6  4  6  4  6  4\n",
            "  9  8  4  7  6  7]\n"
          ]
        }
      ]
    },
    {
      "cell_type": "code",
      "source": [
        "chas=np.zeros(k+1)\n",
        "for i in range(n):\n",
        "  chas[data[i]]=chas[data[i]]+1\n",
        "print(chas)\n",
        "sum=0\n",
        "for i in range(k+1):\n",
        "  sum=sum+chas[i]\n",
        "print(sum)"
      ],
      "metadata": {
        "colab": {
          "base_uri": "https://localhost:8080/"
        },
        "id": "kn-JS31yxOPQ",
        "outputId": "fe302200-5ffe-4648-c50c-fe59fd80b277"
      },
      "execution_count": null,
      "outputs": [
        {
          "output_type": "stream",
          "name": "stdout",
          "text": [
            "[ 0.  0.  4.  5. 21. 23. 41. 30. 14. 10.  2.  0.  0.]\n",
            "150.0\n"
          ]
        }
      ]
    },
    {
      "cell_type": "code",
      "source": [
        "otn_chas=chas/n\n",
        "emp = np.cumsum(otn_chas)\n",
        "print(emp)"
      ],
      "metadata": {
        "colab": {
          "base_uri": "https://localhost:8080/"
        },
        "id": "XSf0GBxZt7QB",
        "outputId": "0ab72fde-0aa7-4e0a-98ad-df10318f9fcb"
      },
      "execution_count": null,
      "outputs": [
        {
          "output_type": "stream",
          "name": "stdout",
          "text": [
            "[0.         0.         0.02666667 0.06       0.2        0.35333333\n",
            " 0.62666667 0.82666667 0.92       0.98666667 1.         1.\n",
            " 1.        ]\n"
          ]
        }
      ]
    },
    {
      "cell_type": "code",
      "source": [
        "X = pd.DataFrame()\n",
        "X['Значения СВ'] = x\n",
        "X['Частоты'] = chas\n",
        "X['Относительные частоты'] = X['Частоты']/n\n",
        "X['Накопленные частоты'] = emp\n",
        "X['Разницы теоретической и эмпирической'] = np.abs(teor - X['Накопленные частоты'])"
      ],
      "metadata": {
        "id": "Vd1foPtmuB32"
      },
      "execution_count": null,
      "outputs": []
    },
    {
      "cell_type": "code",
      "source": [
        "X"
      ],
      "metadata": {
        "colab": {
          "base_uri": "https://localhost:8080/",
          "height": 457
        },
        "id": "7Tl0B0vEuD6U",
        "outputId": "a044742c-24ad-4345-d6b8-90e6dd03ee2d"
      },
      "execution_count": null,
      "outputs": [
        {
          "output_type": "execute_result",
          "data": {
            "text/plain": [
              "    Значения СВ  Частоты  Относительные частоты  Накопленные частоты  \\\n",
              "0             0      0.0               0.000000             0.000000   \n",
              "1             1      0.0               0.000000             0.000000   \n",
              "2             2      4.0               0.026667             0.026667   \n",
              "3             3      5.0               0.033333             0.060000   \n",
              "4             4     21.0               0.140000             0.200000   \n",
              "5             5     23.0               0.153333             0.353333   \n",
              "6             6     41.0               0.273333             0.626667   \n",
              "7             7     30.0               0.200000             0.826667   \n",
              "8             8     14.0               0.093333             0.920000   \n",
              "9             9     10.0               0.066667             0.986667   \n",
              "10           10      2.0               0.013333             1.000000   \n",
              "11           11      0.0               0.000000             1.000000   \n",
              "12           12      0.0               0.000000             1.000000   \n",
              "\n",
              "    Разницы теоретической и эмпирической  \n",
              "0                               0.000244  \n",
              "1                               0.003174  \n",
              "2                               0.007380  \n",
              "3                               0.012998  \n",
              "4                               0.006152  \n",
              "5                               0.033874  \n",
              "6                               0.013874  \n",
              "7                               0.020514  \n",
              "8                               0.007002  \n",
              "9                               0.005954  \n",
              "10                              0.003174  \n",
              "11                              0.000244  \n",
              "12                              0.000000  "
            ],
            "text/html": [
              "\n",
              "  <div id=\"df-876931a6-f71a-4729-a11e-85f522d64c75\" class=\"colab-df-container\">\n",
              "    <div>\n",
              "<style scoped>\n",
              "    .dataframe tbody tr th:only-of-type {\n",
              "        vertical-align: middle;\n",
              "    }\n",
              "\n",
              "    .dataframe tbody tr th {\n",
              "        vertical-align: top;\n",
              "    }\n",
              "\n",
              "    .dataframe thead th {\n",
              "        text-align: right;\n",
              "    }\n",
              "</style>\n",
              "<table border=\"1\" class=\"dataframe\">\n",
              "  <thead>\n",
              "    <tr style=\"text-align: right;\">\n",
              "      <th></th>\n",
              "      <th>Значения СВ</th>\n",
              "      <th>Частоты</th>\n",
              "      <th>Относительные частоты</th>\n",
              "      <th>Накопленные частоты</th>\n",
              "      <th>Разницы теоретической и эмпирической</th>\n",
              "    </tr>\n",
              "  </thead>\n",
              "  <tbody>\n",
              "    <tr>\n",
              "      <th>0</th>\n",
              "      <td>0</td>\n",
              "      <td>0.0</td>\n",
              "      <td>0.000000</td>\n",
              "      <td>0.000000</td>\n",
              "      <td>0.000244</td>\n",
              "    </tr>\n",
              "    <tr>\n",
              "      <th>1</th>\n",
              "      <td>1</td>\n",
              "      <td>0.0</td>\n",
              "      <td>0.000000</td>\n",
              "      <td>0.000000</td>\n",
              "      <td>0.003174</td>\n",
              "    </tr>\n",
              "    <tr>\n",
              "      <th>2</th>\n",
              "      <td>2</td>\n",
              "      <td>4.0</td>\n",
              "      <td>0.026667</td>\n",
              "      <td>0.026667</td>\n",
              "      <td>0.007380</td>\n",
              "    </tr>\n",
              "    <tr>\n",
              "      <th>3</th>\n",
              "      <td>3</td>\n",
              "      <td>5.0</td>\n",
              "      <td>0.033333</td>\n",
              "      <td>0.060000</td>\n",
              "      <td>0.012998</td>\n",
              "    </tr>\n",
              "    <tr>\n",
              "      <th>4</th>\n",
              "      <td>4</td>\n",
              "      <td>21.0</td>\n",
              "      <td>0.140000</td>\n",
              "      <td>0.200000</td>\n",
              "      <td>0.006152</td>\n",
              "    </tr>\n",
              "    <tr>\n",
              "      <th>5</th>\n",
              "      <td>5</td>\n",
              "      <td>23.0</td>\n",
              "      <td>0.153333</td>\n",
              "      <td>0.353333</td>\n",
              "      <td>0.033874</td>\n",
              "    </tr>\n",
              "    <tr>\n",
              "      <th>6</th>\n",
              "      <td>6</td>\n",
              "      <td>41.0</td>\n",
              "      <td>0.273333</td>\n",
              "      <td>0.626667</td>\n",
              "      <td>0.013874</td>\n",
              "    </tr>\n",
              "    <tr>\n",
              "      <th>7</th>\n",
              "      <td>7</td>\n",
              "      <td>30.0</td>\n",
              "      <td>0.200000</td>\n",
              "      <td>0.826667</td>\n",
              "      <td>0.020514</td>\n",
              "    </tr>\n",
              "    <tr>\n",
              "      <th>8</th>\n",
              "      <td>8</td>\n",
              "      <td>14.0</td>\n",
              "      <td>0.093333</td>\n",
              "      <td>0.920000</td>\n",
              "      <td>0.007002</td>\n",
              "    </tr>\n",
              "    <tr>\n",
              "      <th>9</th>\n",
              "      <td>9</td>\n",
              "      <td>10.0</td>\n",
              "      <td>0.066667</td>\n",
              "      <td>0.986667</td>\n",
              "      <td>0.005954</td>\n",
              "    </tr>\n",
              "    <tr>\n",
              "      <th>10</th>\n",
              "      <td>10</td>\n",
              "      <td>2.0</td>\n",
              "      <td>0.013333</td>\n",
              "      <td>1.000000</td>\n",
              "      <td>0.003174</td>\n",
              "    </tr>\n",
              "    <tr>\n",
              "      <th>11</th>\n",
              "      <td>11</td>\n",
              "      <td>0.0</td>\n",
              "      <td>0.000000</td>\n",
              "      <td>1.000000</td>\n",
              "      <td>0.000244</td>\n",
              "    </tr>\n",
              "    <tr>\n",
              "      <th>12</th>\n",
              "      <td>12</td>\n",
              "      <td>0.0</td>\n",
              "      <td>0.000000</td>\n",
              "      <td>1.000000</td>\n",
              "      <td>0.000000</td>\n",
              "    </tr>\n",
              "  </tbody>\n",
              "</table>\n",
              "</div>\n",
              "    <div class=\"colab-df-buttons\">\n",
              "\n",
              "  <div class=\"colab-df-container\">\n",
              "    <button class=\"colab-df-convert\" onclick=\"convertToInteractive('df-876931a6-f71a-4729-a11e-85f522d64c75')\"\n",
              "            title=\"Convert this dataframe to an interactive table.\"\n",
              "            style=\"display:none;\">\n",
              "\n",
              "  <svg xmlns=\"http://www.w3.org/2000/svg\" height=\"24px\" viewBox=\"0 -960 960 960\">\n",
              "    <path d=\"M120-120v-720h720v720H120Zm60-500h600v-160H180v160Zm220 220h160v-160H400v160Zm0 220h160v-160H400v160ZM180-400h160v-160H180v160Zm440 0h160v-160H620v160ZM180-180h160v-160H180v160Zm440 0h160v-160H620v160Z\"/>\n",
              "  </svg>\n",
              "    </button>\n",
              "\n",
              "  <style>\n",
              "    .colab-df-container {\n",
              "      display:flex;\n",
              "      gap: 12px;\n",
              "    }\n",
              "\n",
              "    .colab-df-convert {\n",
              "      background-color: #E8F0FE;\n",
              "      border: none;\n",
              "      border-radius: 50%;\n",
              "      cursor: pointer;\n",
              "      display: none;\n",
              "      fill: #1967D2;\n",
              "      height: 32px;\n",
              "      padding: 0 0 0 0;\n",
              "      width: 32px;\n",
              "    }\n",
              "\n",
              "    .colab-df-convert:hover {\n",
              "      background-color: #E2EBFA;\n",
              "      box-shadow: 0px 1px 2px rgba(60, 64, 67, 0.3), 0px 1px 3px 1px rgba(60, 64, 67, 0.15);\n",
              "      fill: #174EA6;\n",
              "    }\n",
              "\n",
              "    .colab-df-buttons div {\n",
              "      margin-bottom: 4px;\n",
              "    }\n",
              "\n",
              "    [theme=dark] .colab-df-convert {\n",
              "      background-color: #3B4455;\n",
              "      fill: #D2E3FC;\n",
              "    }\n",
              "\n",
              "    [theme=dark] .colab-df-convert:hover {\n",
              "      background-color: #434B5C;\n",
              "      box-shadow: 0px 1px 3px 1px rgba(0, 0, 0, 0.15);\n",
              "      filter: drop-shadow(0px 1px 2px rgba(0, 0, 0, 0.3));\n",
              "      fill: #FFFFFF;\n",
              "    }\n",
              "  </style>\n",
              "\n",
              "    <script>\n",
              "      const buttonEl =\n",
              "        document.querySelector('#df-876931a6-f71a-4729-a11e-85f522d64c75 button.colab-df-convert');\n",
              "      buttonEl.style.display =\n",
              "        google.colab.kernel.accessAllowed ? 'block' : 'none';\n",
              "\n",
              "      async function convertToInteractive(key) {\n",
              "        const element = document.querySelector('#df-876931a6-f71a-4729-a11e-85f522d64c75');\n",
              "        const dataTable =\n",
              "          await google.colab.kernel.invokeFunction('convertToInteractive',\n",
              "                                                    [key], {});\n",
              "        if (!dataTable) return;\n",
              "\n",
              "        const docLinkHtml = 'Like what you see? Visit the ' +\n",
              "          '<a target=\"_blank\" href=https://colab.research.google.com/notebooks/data_table.ipynb>data table notebook</a>'\n",
              "          + ' to learn more about interactive tables.';\n",
              "        element.innerHTML = '';\n",
              "        dataTable['output_type'] = 'display_data';\n",
              "        await google.colab.output.renderOutput(dataTable, element);\n",
              "        const docLink = document.createElement('div');\n",
              "        docLink.innerHTML = docLinkHtml;\n",
              "        element.appendChild(docLink);\n",
              "      }\n",
              "    </script>\n",
              "  </div>\n",
              "\n",
              "\n",
              "<div id=\"df-6e570a6f-dfab-4ffa-86c5-a6b6c76d8dd2\">\n",
              "  <button class=\"colab-df-quickchart\" onclick=\"quickchart('df-6e570a6f-dfab-4ffa-86c5-a6b6c76d8dd2')\"\n",
              "            title=\"Suggest charts\"\n",
              "            style=\"display:none;\">\n",
              "\n",
              "<svg xmlns=\"http://www.w3.org/2000/svg\" height=\"24px\"viewBox=\"0 0 24 24\"\n",
              "     width=\"24px\">\n",
              "    <g>\n",
              "        <path d=\"M19 3H5c-1.1 0-2 .9-2 2v14c0 1.1.9 2 2 2h14c1.1 0 2-.9 2-2V5c0-1.1-.9-2-2-2zM9 17H7v-7h2v7zm4 0h-2V7h2v10zm4 0h-2v-4h2v4z\"/>\n",
              "    </g>\n",
              "</svg>\n",
              "  </button>\n",
              "\n",
              "<style>\n",
              "  .colab-df-quickchart {\n",
              "      --bg-color: #E8F0FE;\n",
              "      --fill-color: #1967D2;\n",
              "      --hover-bg-color: #E2EBFA;\n",
              "      --hover-fill-color: #174EA6;\n",
              "      --disabled-fill-color: #AAA;\n",
              "      --disabled-bg-color: #DDD;\n",
              "  }\n",
              "\n",
              "  [theme=dark] .colab-df-quickchart {\n",
              "      --bg-color: #3B4455;\n",
              "      --fill-color: #D2E3FC;\n",
              "      --hover-bg-color: #434B5C;\n",
              "      --hover-fill-color: #FFFFFF;\n",
              "      --disabled-bg-color: #3B4455;\n",
              "      --disabled-fill-color: #666;\n",
              "  }\n",
              "\n",
              "  .colab-df-quickchart {\n",
              "    background-color: var(--bg-color);\n",
              "    border: none;\n",
              "    border-radius: 50%;\n",
              "    cursor: pointer;\n",
              "    display: none;\n",
              "    fill: var(--fill-color);\n",
              "    height: 32px;\n",
              "    padding: 0;\n",
              "    width: 32px;\n",
              "  }\n",
              "\n",
              "  .colab-df-quickchart:hover {\n",
              "    background-color: var(--hover-bg-color);\n",
              "    box-shadow: 0 1px 2px rgba(60, 64, 67, 0.3), 0 1px 3px 1px rgba(60, 64, 67, 0.15);\n",
              "    fill: var(--button-hover-fill-color);\n",
              "  }\n",
              "\n",
              "  .colab-df-quickchart-complete:disabled,\n",
              "  .colab-df-quickchart-complete:disabled:hover {\n",
              "    background-color: var(--disabled-bg-color);\n",
              "    fill: var(--disabled-fill-color);\n",
              "    box-shadow: none;\n",
              "  }\n",
              "\n",
              "  .colab-df-spinner {\n",
              "    border: 2px solid var(--fill-color);\n",
              "    border-color: transparent;\n",
              "    border-bottom-color: var(--fill-color);\n",
              "    animation:\n",
              "      spin 1s steps(1) infinite;\n",
              "  }\n",
              "\n",
              "  @keyframes spin {\n",
              "    0% {\n",
              "      border-color: transparent;\n",
              "      border-bottom-color: var(--fill-color);\n",
              "      border-left-color: var(--fill-color);\n",
              "    }\n",
              "    20% {\n",
              "      border-color: transparent;\n",
              "      border-left-color: var(--fill-color);\n",
              "      border-top-color: var(--fill-color);\n",
              "    }\n",
              "    30% {\n",
              "      border-color: transparent;\n",
              "      border-left-color: var(--fill-color);\n",
              "      border-top-color: var(--fill-color);\n",
              "      border-right-color: var(--fill-color);\n",
              "    }\n",
              "    40% {\n",
              "      border-color: transparent;\n",
              "      border-right-color: var(--fill-color);\n",
              "      border-top-color: var(--fill-color);\n",
              "    }\n",
              "    60% {\n",
              "      border-color: transparent;\n",
              "      border-right-color: var(--fill-color);\n",
              "    }\n",
              "    80% {\n",
              "      border-color: transparent;\n",
              "      border-right-color: var(--fill-color);\n",
              "      border-bottom-color: var(--fill-color);\n",
              "    }\n",
              "    90% {\n",
              "      border-color: transparent;\n",
              "      border-bottom-color: var(--fill-color);\n",
              "    }\n",
              "  }\n",
              "</style>\n",
              "\n",
              "  <script>\n",
              "    async function quickchart(key) {\n",
              "      const quickchartButtonEl =\n",
              "        document.querySelector('#' + key + ' button');\n",
              "      quickchartButtonEl.disabled = true;  // To prevent multiple clicks.\n",
              "      quickchartButtonEl.classList.add('colab-df-spinner');\n",
              "      try {\n",
              "        const charts = await google.colab.kernel.invokeFunction(\n",
              "            'suggestCharts', [key], {});\n",
              "      } catch (error) {\n",
              "        console.error('Error during call to suggestCharts:', error);\n",
              "      }\n",
              "      quickchartButtonEl.classList.remove('colab-df-spinner');\n",
              "      quickchartButtonEl.classList.add('colab-df-quickchart-complete');\n",
              "    }\n",
              "    (() => {\n",
              "      let quickchartButtonEl =\n",
              "        document.querySelector('#df-6e570a6f-dfab-4ffa-86c5-a6b6c76d8dd2 button');\n",
              "      quickchartButtonEl.style.display =\n",
              "        google.colab.kernel.accessAllowed ? 'block' : 'none';\n",
              "    })();\n",
              "  </script>\n",
              "</div>\n",
              "    </div>\n",
              "  </div>\n"
            ],
            "application/vnd.google.colaboratory.intrinsic+json": {
              "type": "dataframe",
              "variable_name": "X",
              "summary": "{\n  \"name\": \"X\",\n  \"rows\": 13,\n  \"fields\": [\n    {\n      \"column\": \"\\u0417\\u043d\\u0430\\u0447\\u0435\\u043d\\u0438\\u044f \\u0421\\u0412\",\n      \"properties\": {\n        \"dtype\": \"number\",\n        \"std\": 3,\n        \"min\": 0,\n        \"max\": 12,\n        \"num_unique_values\": 13,\n        \"samples\": [\n          11,\n          9,\n          0\n        ],\n        \"semantic_type\": \"\",\n        \"description\": \"\"\n      }\n    },\n    {\n      \"column\": \"\\u0427\\u0430\\u0441\\u0442\\u043e\\u0442\\u044b\",\n      \"properties\": {\n        \"dtype\": \"number\",\n        \"std\": 13.420229659084233,\n        \"min\": 0.0,\n        \"max\": 41.0,\n        \"num_unique_values\": 10,\n        \"samples\": [\n          10.0,\n          4.0,\n          41.0\n        ],\n        \"semantic_type\": \"\",\n        \"description\": \"\"\n      }\n    },\n    {\n      \"column\": \"\\u041e\\u0442\\u043d\\u043e\\u0441\\u0438\\u0442\\u0435\\u043b\\u044c\\u043d\\u044b\\u0435 \\u0447\\u0430\\u0441\\u0442\\u043e\\u0442\\u044b\",\n      \"properties\": {\n        \"dtype\": \"number\",\n        \"std\": 0.08946819772722822,\n        \"min\": 0.0,\n        \"max\": 0.2733333333333333,\n        \"num_unique_values\": 10,\n        \"samples\": [\n          0.06666666666666667,\n          0.02666666666666667,\n          0.2733333333333333\n        ],\n        \"semantic_type\": \"\",\n        \"description\": \"\"\n      }\n    },\n    {\n      \"column\": \"\\u041d\\u0430\\u043a\\u043e\\u043f\\u043b\\u0435\\u043d\\u043d\\u044b\\u0435 \\u0447\\u0430\\u0441\\u0442\\u043e\\u0442\\u044b\",\n      \"properties\": {\n        \"dtype\": \"number\",\n        \"std\": 0.4374094940979969,\n        \"min\": 0.0,\n        \"max\": 1.0,\n        \"num_unique_values\": 10,\n        \"samples\": [\n          0.9866666666666667,\n          0.02666666666666667,\n          0.6266666666666667\n        ],\n        \"semantic_type\": \"\",\n        \"description\": \"\"\n      }\n    },\n    {\n      \"column\": \"\\u0420\\u0430\\u0437\\u043d\\u0438\\u0446\\u044b \\u0442\\u0435\\u043e\\u0440\\u0435\\u0442\\u0438\\u0447\\u0435\\u0441\\u043a\\u043e\\u0439 \\u0438 \\u044d\\u043c\\u043f\\u0438\\u0440\\u0438\\u0447\\u0435\\u0441\\u043a\\u043e\\u0439\",\n      \"properties\": {\n        \"dtype\": \"number\",\n        \"std\": 0.00964708027925003,\n        \"min\": 0.0,\n        \"max\": 0.03387369791666667,\n        \"num_unique_values\": 11,\n        \"samples\": [\n          0.03387369791666667,\n          0.000244140625,\n          0.005953776041666692\n        ],\n        \"semantic_type\": \"\",\n        \"description\": \"\"\n      }\n    }\n  ]\n}"
            }
          },
          "metadata": {},
          "execution_count": 13
        }
      ]
    },
    {
      "cell_type": "code",
      "source": [
        "Y = pd.DataFrame()\n",
        "Y['Эмперическая'] = emp\n",
        "Y['Теоретическая'] = teor\n",
        "Y"
      ],
      "metadata": {
        "colab": {
          "base_uri": "https://localhost:8080/",
          "height": 457
        },
        "id": "faqVeElauFp_",
        "outputId": "92d940a6-c6d7-4464-86df-96423db01d5b"
      },
      "execution_count": null,
      "outputs": [
        {
          "output_type": "execute_result",
          "data": {
            "text/plain": [
              "    Эмперическая  Теоретическая\n",
              "0       0.000000       0.000244\n",
              "1       0.000000       0.003174\n",
              "2       0.026667       0.019287\n",
              "3       0.060000       0.072998\n",
              "4       0.200000       0.193848\n",
              "5       0.353333       0.387207\n",
              "6       0.626667       0.612793\n",
              "7       0.826667       0.806152\n",
              "8       0.920000       0.927002\n",
              "9       0.986667       0.980713\n",
              "10      1.000000       0.996826\n",
              "11      1.000000       0.999756\n",
              "12      1.000000       1.000000"
            ],
            "text/html": [
              "\n",
              "  <div id=\"df-75d9c074-4c6d-4a47-9198-255cc68e4193\" class=\"colab-df-container\">\n",
              "    <div>\n",
              "<style scoped>\n",
              "    .dataframe tbody tr th:only-of-type {\n",
              "        vertical-align: middle;\n",
              "    }\n",
              "\n",
              "    .dataframe tbody tr th {\n",
              "        vertical-align: top;\n",
              "    }\n",
              "\n",
              "    .dataframe thead th {\n",
              "        text-align: right;\n",
              "    }\n",
              "</style>\n",
              "<table border=\"1\" class=\"dataframe\">\n",
              "  <thead>\n",
              "    <tr style=\"text-align: right;\">\n",
              "      <th></th>\n",
              "      <th>Эмперическая</th>\n",
              "      <th>Теоретическая</th>\n",
              "    </tr>\n",
              "  </thead>\n",
              "  <tbody>\n",
              "    <tr>\n",
              "      <th>0</th>\n",
              "      <td>0.000000</td>\n",
              "      <td>0.000244</td>\n",
              "    </tr>\n",
              "    <tr>\n",
              "      <th>1</th>\n",
              "      <td>0.000000</td>\n",
              "      <td>0.003174</td>\n",
              "    </tr>\n",
              "    <tr>\n",
              "      <th>2</th>\n",
              "      <td>0.026667</td>\n",
              "      <td>0.019287</td>\n",
              "    </tr>\n",
              "    <tr>\n",
              "      <th>3</th>\n",
              "      <td>0.060000</td>\n",
              "      <td>0.072998</td>\n",
              "    </tr>\n",
              "    <tr>\n",
              "      <th>4</th>\n",
              "      <td>0.200000</td>\n",
              "      <td>0.193848</td>\n",
              "    </tr>\n",
              "    <tr>\n",
              "      <th>5</th>\n",
              "      <td>0.353333</td>\n",
              "      <td>0.387207</td>\n",
              "    </tr>\n",
              "    <tr>\n",
              "      <th>6</th>\n",
              "      <td>0.626667</td>\n",
              "      <td>0.612793</td>\n",
              "    </tr>\n",
              "    <tr>\n",
              "      <th>7</th>\n",
              "      <td>0.826667</td>\n",
              "      <td>0.806152</td>\n",
              "    </tr>\n",
              "    <tr>\n",
              "      <th>8</th>\n",
              "      <td>0.920000</td>\n",
              "      <td>0.927002</td>\n",
              "    </tr>\n",
              "    <tr>\n",
              "      <th>9</th>\n",
              "      <td>0.986667</td>\n",
              "      <td>0.980713</td>\n",
              "    </tr>\n",
              "    <tr>\n",
              "      <th>10</th>\n",
              "      <td>1.000000</td>\n",
              "      <td>0.996826</td>\n",
              "    </tr>\n",
              "    <tr>\n",
              "      <th>11</th>\n",
              "      <td>1.000000</td>\n",
              "      <td>0.999756</td>\n",
              "    </tr>\n",
              "    <tr>\n",
              "      <th>12</th>\n",
              "      <td>1.000000</td>\n",
              "      <td>1.000000</td>\n",
              "    </tr>\n",
              "  </tbody>\n",
              "</table>\n",
              "</div>\n",
              "    <div class=\"colab-df-buttons\">\n",
              "\n",
              "  <div class=\"colab-df-container\">\n",
              "    <button class=\"colab-df-convert\" onclick=\"convertToInteractive('df-75d9c074-4c6d-4a47-9198-255cc68e4193')\"\n",
              "            title=\"Convert this dataframe to an interactive table.\"\n",
              "            style=\"display:none;\">\n",
              "\n",
              "  <svg xmlns=\"http://www.w3.org/2000/svg\" height=\"24px\" viewBox=\"0 -960 960 960\">\n",
              "    <path d=\"M120-120v-720h720v720H120Zm60-500h600v-160H180v160Zm220 220h160v-160H400v160Zm0 220h160v-160H400v160ZM180-400h160v-160H180v160Zm440 0h160v-160H620v160ZM180-180h160v-160H180v160Zm440 0h160v-160H620v160Z\"/>\n",
              "  </svg>\n",
              "    </button>\n",
              "\n",
              "  <style>\n",
              "    .colab-df-container {\n",
              "      display:flex;\n",
              "      gap: 12px;\n",
              "    }\n",
              "\n",
              "    .colab-df-convert {\n",
              "      background-color: #E8F0FE;\n",
              "      border: none;\n",
              "      border-radius: 50%;\n",
              "      cursor: pointer;\n",
              "      display: none;\n",
              "      fill: #1967D2;\n",
              "      height: 32px;\n",
              "      padding: 0 0 0 0;\n",
              "      width: 32px;\n",
              "    }\n",
              "\n",
              "    .colab-df-convert:hover {\n",
              "      background-color: #E2EBFA;\n",
              "      box-shadow: 0px 1px 2px rgba(60, 64, 67, 0.3), 0px 1px 3px 1px rgba(60, 64, 67, 0.15);\n",
              "      fill: #174EA6;\n",
              "    }\n",
              "\n",
              "    .colab-df-buttons div {\n",
              "      margin-bottom: 4px;\n",
              "    }\n",
              "\n",
              "    [theme=dark] .colab-df-convert {\n",
              "      background-color: #3B4455;\n",
              "      fill: #D2E3FC;\n",
              "    }\n",
              "\n",
              "    [theme=dark] .colab-df-convert:hover {\n",
              "      background-color: #434B5C;\n",
              "      box-shadow: 0px 1px 3px 1px rgba(0, 0, 0, 0.15);\n",
              "      filter: drop-shadow(0px 1px 2px rgba(0, 0, 0, 0.3));\n",
              "      fill: #FFFFFF;\n",
              "    }\n",
              "  </style>\n",
              "\n",
              "    <script>\n",
              "      const buttonEl =\n",
              "        document.querySelector('#df-75d9c074-4c6d-4a47-9198-255cc68e4193 button.colab-df-convert');\n",
              "      buttonEl.style.display =\n",
              "        google.colab.kernel.accessAllowed ? 'block' : 'none';\n",
              "\n",
              "      async function convertToInteractive(key) {\n",
              "        const element = document.querySelector('#df-75d9c074-4c6d-4a47-9198-255cc68e4193');\n",
              "        const dataTable =\n",
              "          await google.colab.kernel.invokeFunction('convertToInteractive',\n",
              "                                                    [key], {});\n",
              "        if (!dataTable) return;\n",
              "\n",
              "        const docLinkHtml = 'Like what you see? Visit the ' +\n",
              "          '<a target=\"_blank\" href=https://colab.research.google.com/notebooks/data_table.ipynb>data table notebook</a>'\n",
              "          + ' to learn more about interactive tables.';\n",
              "        element.innerHTML = '';\n",
              "        dataTable['output_type'] = 'display_data';\n",
              "        await google.colab.output.renderOutput(dataTable, element);\n",
              "        const docLink = document.createElement('div');\n",
              "        docLink.innerHTML = docLinkHtml;\n",
              "        element.appendChild(docLink);\n",
              "      }\n",
              "    </script>\n",
              "  </div>\n",
              "\n",
              "\n",
              "<div id=\"df-a8a50971-1d0e-4c42-a500-60260f23f3b1\">\n",
              "  <button class=\"colab-df-quickchart\" onclick=\"quickchart('df-a8a50971-1d0e-4c42-a500-60260f23f3b1')\"\n",
              "            title=\"Suggest charts\"\n",
              "            style=\"display:none;\">\n",
              "\n",
              "<svg xmlns=\"http://www.w3.org/2000/svg\" height=\"24px\"viewBox=\"0 0 24 24\"\n",
              "     width=\"24px\">\n",
              "    <g>\n",
              "        <path d=\"M19 3H5c-1.1 0-2 .9-2 2v14c0 1.1.9 2 2 2h14c1.1 0 2-.9 2-2V5c0-1.1-.9-2-2-2zM9 17H7v-7h2v7zm4 0h-2V7h2v10zm4 0h-2v-4h2v4z\"/>\n",
              "    </g>\n",
              "</svg>\n",
              "  </button>\n",
              "\n",
              "<style>\n",
              "  .colab-df-quickchart {\n",
              "      --bg-color: #E8F0FE;\n",
              "      --fill-color: #1967D2;\n",
              "      --hover-bg-color: #E2EBFA;\n",
              "      --hover-fill-color: #174EA6;\n",
              "      --disabled-fill-color: #AAA;\n",
              "      --disabled-bg-color: #DDD;\n",
              "  }\n",
              "\n",
              "  [theme=dark] .colab-df-quickchart {\n",
              "      --bg-color: #3B4455;\n",
              "      --fill-color: #D2E3FC;\n",
              "      --hover-bg-color: #434B5C;\n",
              "      --hover-fill-color: #FFFFFF;\n",
              "      --disabled-bg-color: #3B4455;\n",
              "      --disabled-fill-color: #666;\n",
              "  }\n",
              "\n",
              "  .colab-df-quickchart {\n",
              "    background-color: var(--bg-color);\n",
              "    border: none;\n",
              "    border-radius: 50%;\n",
              "    cursor: pointer;\n",
              "    display: none;\n",
              "    fill: var(--fill-color);\n",
              "    height: 32px;\n",
              "    padding: 0;\n",
              "    width: 32px;\n",
              "  }\n",
              "\n",
              "  .colab-df-quickchart:hover {\n",
              "    background-color: var(--hover-bg-color);\n",
              "    box-shadow: 0 1px 2px rgba(60, 64, 67, 0.3), 0 1px 3px 1px rgba(60, 64, 67, 0.15);\n",
              "    fill: var(--button-hover-fill-color);\n",
              "  }\n",
              "\n",
              "  .colab-df-quickchart-complete:disabled,\n",
              "  .colab-df-quickchart-complete:disabled:hover {\n",
              "    background-color: var(--disabled-bg-color);\n",
              "    fill: var(--disabled-fill-color);\n",
              "    box-shadow: none;\n",
              "  }\n",
              "\n",
              "  .colab-df-spinner {\n",
              "    border: 2px solid var(--fill-color);\n",
              "    border-color: transparent;\n",
              "    border-bottom-color: var(--fill-color);\n",
              "    animation:\n",
              "      spin 1s steps(1) infinite;\n",
              "  }\n",
              "\n",
              "  @keyframes spin {\n",
              "    0% {\n",
              "      border-color: transparent;\n",
              "      border-bottom-color: var(--fill-color);\n",
              "      border-left-color: var(--fill-color);\n",
              "    }\n",
              "    20% {\n",
              "      border-color: transparent;\n",
              "      border-left-color: var(--fill-color);\n",
              "      border-top-color: var(--fill-color);\n",
              "    }\n",
              "    30% {\n",
              "      border-color: transparent;\n",
              "      border-left-color: var(--fill-color);\n",
              "      border-top-color: var(--fill-color);\n",
              "      border-right-color: var(--fill-color);\n",
              "    }\n",
              "    40% {\n",
              "      border-color: transparent;\n",
              "      border-right-color: var(--fill-color);\n",
              "      border-top-color: var(--fill-color);\n",
              "    }\n",
              "    60% {\n",
              "      border-color: transparent;\n",
              "      border-right-color: var(--fill-color);\n",
              "    }\n",
              "    80% {\n",
              "      border-color: transparent;\n",
              "      border-right-color: var(--fill-color);\n",
              "      border-bottom-color: var(--fill-color);\n",
              "    }\n",
              "    90% {\n",
              "      border-color: transparent;\n",
              "      border-bottom-color: var(--fill-color);\n",
              "    }\n",
              "  }\n",
              "</style>\n",
              "\n",
              "  <script>\n",
              "    async function quickchart(key) {\n",
              "      const quickchartButtonEl =\n",
              "        document.querySelector('#' + key + ' button');\n",
              "      quickchartButtonEl.disabled = true;  // To prevent multiple clicks.\n",
              "      quickchartButtonEl.classList.add('colab-df-spinner');\n",
              "      try {\n",
              "        const charts = await google.colab.kernel.invokeFunction(\n",
              "            'suggestCharts', [key], {});\n",
              "      } catch (error) {\n",
              "        console.error('Error during call to suggestCharts:', error);\n",
              "      }\n",
              "      quickchartButtonEl.classList.remove('colab-df-spinner');\n",
              "      quickchartButtonEl.classList.add('colab-df-quickchart-complete');\n",
              "    }\n",
              "    (() => {\n",
              "      let quickchartButtonEl =\n",
              "        document.querySelector('#df-a8a50971-1d0e-4c42-a500-60260f23f3b1 button');\n",
              "      quickchartButtonEl.style.display =\n",
              "        google.colab.kernel.accessAllowed ? 'block' : 'none';\n",
              "    })();\n",
              "  </script>\n",
              "</div>\n",
              "    </div>\n",
              "  </div>\n"
            ],
            "application/vnd.google.colaboratory.intrinsic+json": {
              "type": "dataframe",
              "variable_name": "Y",
              "summary": "{\n  \"name\": \"Y\",\n  \"rows\": 13,\n  \"fields\": [\n    {\n      \"column\": \"\\u042d\\u043c\\u043f\\u0435\\u0440\\u0438\\u0447\\u0435\\u0441\\u043a\\u0430\\u044f\",\n      \"properties\": {\n        \"dtype\": \"number\",\n        \"std\": 0.4374094940979969,\n        \"min\": 0.0,\n        \"max\": 1.0,\n        \"num_unique_values\": 10,\n        \"samples\": [\n          0.9866666666666667,\n          0.02666666666666667,\n          0.6266666666666667\n        ],\n        \"semantic_type\": \"\",\n        \"description\": \"\"\n      }\n    },\n    {\n      \"column\": \"\\u0422\\u0435\\u043e\\u0440\\u0435\\u0442\\u0438\\u0447\\u0435\\u0441\\u043a\\u0430\\u044f\",\n      \"properties\": {\n        \"dtype\": \"number\",\n        \"std\": 0.43432780285419054,\n        \"min\": 0.000244140625,\n        \"max\": 1.0,\n        \"num_unique_values\": 13,\n        \"samples\": [\n          0.999755859375,\n          0.980712890625,\n          0.000244140625\n        ],\n        \"semantic_type\": \"\",\n        \"description\": \"\"\n      }\n    }\n  ]\n}"
            }
          },
          "metadata": {},
          "execution_count": 14
        }
      ]
    },
    {
      "cell_type": "code",
      "source": [
        "max(abs(teor-emp))"
      ],
      "metadata": {
        "colab": {
          "base_uri": "https://localhost:8080/"
        },
        "id": "9WrEsHz40uP_",
        "outputId": "44798652-dab6-4431-b3f3-73ba151da21f"
      },
      "execution_count": null,
      "outputs": [
        {
          "output_type": "execute_result",
          "data": {
            "text/plain": [
              "0.03387369791666667"
            ]
          },
          "metadata": {},
          "execution_count": 15
        }
      ]
    },
    {
      "cell_type": "code",
      "source": [
        "def teorF(x):\n",
        "  if x<0:\n",
        "    return 0\n",
        "  elif x>k:\n",
        "    return 1\n",
        "  elif x>=0 and x<=k:\n",
        "    return teor[int(x)]\n",
        "def F(x):\n",
        "  if x<0:\n",
        "    return 0\n",
        "  elif x>k:\n",
        "    return 1\n",
        "  elif x>=0 and x<=k:\n",
        "    return emp[int(x)]"
      ],
      "metadata": {
        "id": "Tp38vKyZuLqr"
      },
      "execution_count": null,
      "outputs": []
    },
    {
      "cell_type": "code",
      "source": [
        "x_new = np.linspace(-1, k+1, 1000)\n",
        "y_teor = list(map(teorF, x_new))\n",
        "y_emper = list(map(F, x_new))\n",
        "plt.plot(x_new, y_emper, 'green')\n",
        "plt.plot(x_new, y_teor, 'black')\n",
        "plt.legend(['эмпирическая', 'теоретическая'])\n",
        "plt.show()"
      ],
      "metadata": {
        "colab": {
          "base_uri": "https://localhost:8080/",
          "height": 430
        },
        "id": "y_QjaNOguPur",
        "outputId": "aeadbf33-84f3-4732-e050-2db1f70451dc"
      },
      "execution_count": null,
      "outputs": [
        {
          "output_type": "display_data",
          "data": {
            "text/plain": [
              "<Figure size 640x480 with 1 Axes>"
            ],
            "image/png": "[encoded data removed]"
          },
          "metadata": {}
        }
      ]
    },
    {
      "cell_type": "code",
      "source": [
        "np.mean(data)"
      ],
      "metadata": {
        "colab": {
          "base_uri": "https://localhost:8080/"
        },
        "id": "1QlOxJ8juZiT",
        "outputId": "02756659-982c-4818-f9d5-1f1c4ca71242"
      },
      "execution_count": null,
      "outputs": [
        {
          "output_type": "execute_result",
          "data": {
            "text/plain": [
              "6.0"
            ]
          },
          "metadata": {},
          "execution_count": 18
        }
      ]
    },
    {
      "cell_type": "code",
      "source": [
        "k*p"
      ],
      "metadata": {
        "colab": {
          "base_uri": "https://localhost:8080/"
        },
        "id": "Yc1ZPET9ub4S",
        "outputId": "5939bfd2-c6d3-4199-eb2e-4ee061bddcee"
      },
      "execution_count": null,
      "outputs": [
        {
          "output_type": "execute_result",
          "data": {
            "text/plain": [
              "6.0"
            ]
          },
          "metadata": {},
          "execution_count": 19
        }
      ]
    },
    {
      "cell_type": "code",
      "source": [
        "(1/(n-1)) * (np.sum((data - np.mean(data))**2))"
      ],
      "metadata": {
        "colab": {
          "base_uri": "https://localhost:8080/"
        },
        "id": "CKltg-MLud16",
        "outputId": "ab25cdac-4948-4895-da8c-ee8d5fea4190"
      },
      "execution_count": null,
      "outputs": [
        {
          "output_type": "execute_result",
          "data": {
            "text/plain": [
              "2.8456375838926173"
            ]
          },
          "metadata": {},
          "execution_count": 20
        }
      ]
    },
    {
      "cell_type": "code",
      "source": [
        "k*p*(1-p)"
      ],
      "metadata": {
        "colab": {
          "base_uri": "https://localhost:8080/"
        },
        "id": "BkojXsNOufyV",
        "outputId": "ea7a7227-3dd1-443a-d054-7a9eac9e1168"
      },
      "execution_count": null,
      "outputs": [
        {
          "output_type": "execute_result",
          "data": {
            "text/plain": [
              "3.0"
            ]
          },
          "metadata": {},
          "execution_count": 21
        }
      ]
    }
  ]
}